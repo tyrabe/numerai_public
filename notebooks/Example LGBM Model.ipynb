{
 "cells": [
  {
   "cell_type": "code",
   "execution_count": 1,
   "metadata": {},
   "outputs": [
    {
     "data": {
      "text/html": [
       "<style>.container { width:100% !important; }</style>"
      ],
      "text/plain": [
       "<IPython.core.display.HTML object>"
      ]
     },
     "metadata": {},
     "output_type": "display_data"
    }
   ],
   "source": [
    "import pandas as pd\n",
    "import matplotlib.pyplot as plt \n",
    "import numpy as np\n",
    "import datetime\n",
    "import numerapi\n",
    "\n",
    "from sklearn import linear_model\n",
    "from sklearn import svm\n",
    "from sklearn.gaussian_process import GaussianProcessRegressor\n",
    "from sklearn.ensemble import GradientBoostingRegressor\n",
    "\n",
    "from sklearn.model_selection import KFold, cross_val_score, cross_validate\n",
    "from sklearn import linear_model\n",
    "from sklearn import metrics\n",
    "from sklearn.model_selection import train_test_split\n",
    "from sklearn.preprocessing import MinMaxScaler\n",
    "\n",
    "from hyperopt import fmin, tpe, hp, STATUS_OK, Trials\n",
    "\n",
    "import scipy\n",
    "import numpy\n",
    "from scipy import stats\n",
    "\n",
    "import lightgbm as lgb\n",
    "\n",
    "from IPython.core.display import display, HTML\n",
    "display(HTML(\"<style>.container { width:100% !important; }</style>\"))"
   ]
  },
  {
   "cell_type": "code",
   "execution_count": 2,
   "metadata": {},
   "outputs": [],
   "source": [
    "# some API calls do not require logging in\n",
    "napi = numerapi.NumerAPI(verbosity=\"info\")"
   ]
  },
  {
   "cell_type": "code",
   "execution_count": 3,
   "metadata": {},
   "outputs": [
    {
     "name": "stderr",
     "output_type": "stream",
     "text": [
      "2022-04-27 06:16:14,366 INFO numerapi.base_api: getting rounds...\n",
      "C:\\Users\\tyrab\\AppData\\Roaming\\Python\\Python37\\site-packages\\cryptography\\hazmat\\backends\\openssl\\x509.py:17: CryptographyDeprecationWarning: This version of cryptography contains a temporary pyOpenSSL fallback path. Upgrade pyOpenSSL now.\n",
      "  utils.DeprecatedIn35,\n"
     ]
    },
    {
     "name": "stdout",
     "output_type": "stream",
     "text": [
      "no new round within the last 24 hours\n"
     ]
    }
   ],
   "source": [
    "# get competitions\n",
    "all_competitions = napi.get_competitions()\n",
    "# get leaderboard for the current round\n",
    "leaderboard = napi.get_leaderboard()\n",
    "# check if a new round has started\n",
    "if napi.check_new_round():\n",
    "    print(\"new round has started wihtin the last 24hours!\")\n",
    "else:\n",
    "    print(\"no new round within the last 24 hours\")"
   ]
  },
  {
   "cell_type": "code",
   "execution_count": 4,
   "metadata": {},
   "outputs": [
    {
     "name": "stderr",
     "output_type": "stream",
     "text": [
      "2022-04-27 06:16:21,726 INFO numerapi.utils: starting download\n",
      ".\\numerai_dataset_313.zip: 100%|███████████████████████████████████████████████████▉| 452M/453M [00:48<00:00, 9.67MB/s]2022-04-27 06:17:10,855 INFO numerapi.base_api: unzipping file...\n",
      ".\\numerai_dataset_313.zip: 453MB [01:00, 9.67MB/s]                                                                     "
     ]
    },
    {
     "data": {
      "text/plain": [
       "'.\\\\numerai_dataset_313.zip'"
      ]
     },
     "execution_count": 4,
     "metadata": {},
     "output_type": "execute_result"
    }
   ],
   "source": [
    "# download current dataset\n",
    "napi.download_current_dataset(unzip=True)"
   ]
  },
  {
   "cell_type": "code",
   "execution_count": 5,
   "metadata": {},
   "outputs": [],
   "source": [
    "tournament_number = napi.get_current_round()\n",
    "TOURNAMENT_NAME = \"nomi\"\n",
    "TARGET_NAME = \"target\"\n",
    "PREDICTION_NAME = \"prediction\""
   ]
  },
  {
   "cell_type": "code",
   "execution_count": 6,
   "metadata": {},
   "outputs": [],
   "source": [
    "training_data = pd.read_csv(\"./numerai_dataset_\"+str(tournament_number)+\"/numerai_training_data.csv\")\n",
    "tournament_data = pd.read_csv(\"./numerai_dataset_\"+str(tournament_number)+\"/numerai_tournament_data.csv\")"
   ]
  },
  {
   "cell_type": "code",
   "execution_count": 7,
   "metadata": {},
   "outputs": [],
   "source": [
    "training_data['erano'] = training_data.era.str.strip('era').astype('int')"
   ]
  },
  {
   "cell_type": "code",
   "execution_count": 8,
   "metadata": {},
   "outputs": [],
   "source": [
    "features = [f for f in training_data.columns if 'feature' in f]\n",
    "target = [f for f in training_data.columns if 'target' in f]"
   ]
  },
  {
   "cell_type": "code",
   "execution_count": 12,
   "metadata": {},
   "outputs": [
    {
     "data": {
      "text/html": [
       "<div>\n",
       "<style scoped>\n",
       "    .dataframe tbody tr th:only-of-type {\n",
       "        vertical-align: middle;\n",
       "    }\n",
       "\n",
       "    .dataframe tbody tr th {\n",
       "        vertical-align: top;\n",
       "    }\n",
       "\n",
       "    .dataframe thead th {\n",
       "        text-align: right;\n",
       "    }\n",
       "</style>\n",
       "<table border=\"1\" class=\"dataframe\">\n",
       "  <thead>\n",
       "    <tr style=\"text-align: right;\">\n",
       "      <th></th>\n",
       "      <th>feature_intelligence1</th>\n",
       "      <th>feature_intelligence2</th>\n",
       "      <th>feature_intelligence3</th>\n",
       "      <th>feature_intelligence4</th>\n",
       "      <th>feature_intelligence5</th>\n",
       "      <th>feature_intelligence6</th>\n",
       "      <th>feature_intelligence7</th>\n",
       "      <th>feature_intelligence8</th>\n",
       "      <th>feature_intelligence9</th>\n",
       "      <th>feature_intelligence10</th>\n",
       "      <th>...</th>\n",
       "      <th>feature_wisdom39</th>\n",
       "      <th>feature_wisdom40</th>\n",
       "      <th>feature_wisdom41</th>\n",
       "      <th>feature_wisdom42</th>\n",
       "      <th>feature_wisdom43</th>\n",
       "      <th>feature_wisdom44</th>\n",
       "      <th>feature_wisdom45</th>\n",
       "      <th>feature_wisdom46</th>\n",
       "      <th>target</th>\n",
       "      <th>erano</th>\n",
       "    </tr>\n",
       "  </thead>\n",
       "  <tbody>\n",
       "    <tr>\n",
       "      <th>count</th>\n",
       "      <td>501808.000000</td>\n",
       "      <td>501808.000000</td>\n",
       "      <td>501808.000000</td>\n",
       "      <td>501808.000000</td>\n",
       "      <td>501808.000000</td>\n",
       "      <td>501808.000000</td>\n",
       "      <td>501808.000000</td>\n",
       "      <td>501808.000000</td>\n",
       "      <td>501808.000000</td>\n",
       "      <td>501808.000000</td>\n",
       "      <td>...</td>\n",
       "      <td>501808.000000</td>\n",
       "      <td>501808.000000</td>\n",
       "      <td>501808.000000</td>\n",
       "      <td>501808.000000</td>\n",
       "      <td>501808.000000</td>\n",
       "      <td>501808.000000</td>\n",
       "      <td>501808.000000</td>\n",
       "      <td>501808.000000</td>\n",
       "      <td>501808.000000</td>\n",
       "      <td>501808.000000</td>\n",
       "    </tr>\n",
       "    <tr>\n",
       "      <th>mean</th>\n",
       "      <td>0.499981</td>\n",
       "      <td>0.499979</td>\n",
       "      <td>0.499979</td>\n",
       "      <td>0.499981</td>\n",
       "      <td>0.499977</td>\n",
       "      <td>0.499977</td>\n",
       "      <td>0.499977</td>\n",
       "      <td>0.499981</td>\n",
       "      <td>0.499980</td>\n",
       "      <td>0.499980</td>\n",
       "      <td>...</td>\n",
       "      <td>0.499982</td>\n",
       "      <td>0.499974</td>\n",
       "      <td>0.499980</td>\n",
       "      <td>0.499982</td>\n",
       "      <td>0.499980</td>\n",
       "      <td>0.499974</td>\n",
       "      <td>0.499979</td>\n",
       "      <td>0.499971</td>\n",
       "      <td>0.499997</td>\n",
       "      <td>64.001987</td>\n",
       "    </tr>\n",
       "    <tr>\n",
       "      <th>std</th>\n",
       "      <td>0.353596</td>\n",
       "      <td>0.353593</td>\n",
       "      <td>0.353593</td>\n",
       "      <td>0.353596</td>\n",
       "      <td>0.353587</td>\n",
       "      <td>0.353587</td>\n",
       "      <td>0.353587</td>\n",
       "      <td>0.353596</td>\n",
       "      <td>0.352099</td>\n",
       "      <td>0.352099</td>\n",
       "      <td>...</td>\n",
       "      <td>0.353139</td>\n",
       "      <td>0.351328</td>\n",
       "      <td>0.350662</td>\n",
       "      <td>0.352151</td>\n",
       "      <td>0.352965</td>\n",
       "      <td>0.351328</td>\n",
       "      <td>0.347689</td>\n",
       "      <td>0.353419</td>\n",
       "      <td>0.223268</td>\n",
       "      <td>33.332945</td>\n",
       "    </tr>\n",
       "    <tr>\n",
       "      <th>min</th>\n",
       "      <td>0.000000</td>\n",
       "      <td>0.000000</td>\n",
       "      <td>0.000000</td>\n",
       "      <td>0.000000</td>\n",
       "      <td>0.000000</td>\n",
       "      <td>0.000000</td>\n",
       "      <td>0.000000</td>\n",
       "      <td>0.000000</td>\n",
       "      <td>0.000000</td>\n",
       "      <td>0.000000</td>\n",
       "      <td>...</td>\n",
       "      <td>0.000000</td>\n",
       "      <td>0.000000</td>\n",
       "      <td>0.000000</td>\n",
       "      <td>0.000000</td>\n",
       "      <td>0.000000</td>\n",
       "      <td>0.000000</td>\n",
       "      <td>0.000000</td>\n",
       "      <td>0.000000</td>\n",
       "      <td>0.000000</td>\n",
       "      <td>1.000000</td>\n",
       "    </tr>\n",
       "    <tr>\n",
       "      <th>25%</th>\n",
       "      <td>0.250000</td>\n",
       "      <td>0.250000</td>\n",
       "      <td>0.250000</td>\n",
       "      <td>0.250000</td>\n",
       "      <td>0.250000</td>\n",
       "      <td>0.250000</td>\n",
       "      <td>0.250000</td>\n",
       "      <td>0.250000</td>\n",
       "      <td>0.250000</td>\n",
       "      <td>0.250000</td>\n",
       "      <td>...</td>\n",
       "      <td>0.250000</td>\n",
       "      <td>0.250000</td>\n",
       "      <td>0.250000</td>\n",
       "      <td>0.250000</td>\n",
       "      <td>0.250000</td>\n",
       "      <td>0.250000</td>\n",
       "      <td>0.250000</td>\n",
       "      <td>0.250000</td>\n",
       "      <td>0.500000</td>\n",
       "      <td>37.000000</td>\n",
       "    </tr>\n",
       "    <tr>\n",
       "      <th>50%</th>\n",
       "      <td>0.500000</td>\n",
       "      <td>0.500000</td>\n",
       "      <td>0.500000</td>\n",
       "      <td>0.500000</td>\n",
       "      <td>0.500000</td>\n",
       "      <td>0.500000</td>\n",
       "      <td>0.500000</td>\n",
       "      <td>0.500000</td>\n",
       "      <td>0.500000</td>\n",
       "      <td>0.500000</td>\n",
       "      <td>...</td>\n",
       "      <td>0.500000</td>\n",
       "      <td>0.500000</td>\n",
       "      <td>0.500000</td>\n",
       "      <td>0.500000</td>\n",
       "      <td>0.500000</td>\n",
       "      <td>0.500000</td>\n",
       "      <td>0.500000</td>\n",
       "      <td>0.500000</td>\n",
       "      <td>0.500000</td>\n",
       "      <td>64.000000</td>\n",
       "    </tr>\n",
       "    <tr>\n",
       "      <th>75%</th>\n",
       "      <td>0.750000</td>\n",
       "      <td>0.750000</td>\n",
       "      <td>0.750000</td>\n",
       "      <td>0.750000</td>\n",
       "      <td>0.750000</td>\n",
       "      <td>0.750000</td>\n",
       "      <td>0.750000</td>\n",
       "      <td>0.750000</td>\n",
       "      <td>0.750000</td>\n",
       "      <td>0.750000</td>\n",
       "      <td>...</td>\n",
       "      <td>0.750000</td>\n",
       "      <td>0.750000</td>\n",
       "      <td>0.750000</td>\n",
       "      <td>0.750000</td>\n",
       "      <td>0.750000</td>\n",
       "      <td>0.750000</td>\n",
       "      <td>0.750000</td>\n",
       "      <td>0.750000</td>\n",
       "      <td>0.500000</td>\n",
       "      <td>93.000000</td>\n",
       "    </tr>\n",
       "    <tr>\n",
       "      <th>max</th>\n",
       "      <td>1.000000</td>\n",
       "      <td>1.000000</td>\n",
       "      <td>1.000000</td>\n",
       "      <td>1.000000</td>\n",
       "      <td>1.000000</td>\n",
       "      <td>1.000000</td>\n",
       "      <td>1.000000</td>\n",
       "      <td>1.000000</td>\n",
       "      <td>1.000000</td>\n",
       "      <td>1.000000</td>\n",
       "      <td>...</td>\n",
       "      <td>1.000000</td>\n",
       "      <td>1.000000</td>\n",
       "      <td>1.000000</td>\n",
       "      <td>1.000000</td>\n",
       "      <td>1.000000</td>\n",
       "      <td>1.000000</td>\n",
       "      <td>1.000000</td>\n",
       "      <td>1.000000</td>\n",
       "      <td>1.000000</td>\n",
       "      <td>120.000000</td>\n",
       "    </tr>\n",
       "  </tbody>\n",
       "</table>\n",
       "<p>8 rows × 312 columns</p>\n",
       "</div>"
      ],
      "text/plain": [
       "       feature_intelligence1  feature_intelligence2  feature_intelligence3  \\\n",
       "count          501808.000000          501808.000000          501808.000000   \n",
       "mean                0.499981               0.499979               0.499979   \n",
       "std                 0.353596               0.353593               0.353593   \n",
       "min                 0.000000               0.000000               0.000000   \n",
       "25%                 0.250000               0.250000               0.250000   \n",
       "50%                 0.500000               0.500000               0.500000   \n",
       "75%                 0.750000               0.750000               0.750000   \n",
       "max                 1.000000               1.000000               1.000000   \n",
       "\n",
       "       feature_intelligence4  feature_intelligence5  feature_intelligence6  \\\n",
       "count          501808.000000          501808.000000          501808.000000   \n",
       "mean                0.499981               0.499977               0.499977   \n",
       "std                 0.353596               0.353587               0.353587   \n",
       "min                 0.000000               0.000000               0.000000   \n",
       "25%                 0.250000               0.250000               0.250000   \n",
       "50%                 0.500000               0.500000               0.500000   \n",
       "75%                 0.750000               0.750000               0.750000   \n",
       "max                 1.000000               1.000000               1.000000   \n",
       "\n",
       "       feature_intelligence7  feature_intelligence8  feature_intelligence9  \\\n",
       "count          501808.000000          501808.000000          501808.000000   \n",
       "mean                0.499977               0.499981               0.499980   \n",
       "std                 0.353587               0.353596               0.352099   \n",
       "min                 0.000000               0.000000               0.000000   \n",
       "25%                 0.250000               0.250000               0.250000   \n",
       "50%                 0.500000               0.500000               0.500000   \n",
       "75%                 0.750000               0.750000               0.750000   \n",
       "max                 1.000000               1.000000               1.000000   \n",
       "\n",
       "       feature_intelligence10  ...  feature_wisdom39  feature_wisdom40  \\\n",
       "count           501808.000000  ...     501808.000000     501808.000000   \n",
       "mean                 0.499980  ...          0.499982          0.499974   \n",
       "std                  0.352099  ...          0.353139          0.351328   \n",
       "min                  0.000000  ...          0.000000          0.000000   \n",
       "25%                  0.250000  ...          0.250000          0.250000   \n",
       "50%                  0.500000  ...          0.500000          0.500000   \n",
       "75%                  0.750000  ...          0.750000          0.750000   \n",
       "max                  1.000000  ...          1.000000          1.000000   \n",
       "\n",
       "       feature_wisdom41  feature_wisdom42  feature_wisdom43  feature_wisdom44  \\\n",
       "count     501808.000000     501808.000000     501808.000000     501808.000000   \n",
       "mean           0.499980          0.499982          0.499980          0.499974   \n",
       "std            0.350662          0.352151          0.352965          0.351328   \n",
       "min            0.000000          0.000000          0.000000          0.000000   \n",
       "25%            0.250000          0.250000          0.250000          0.250000   \n",
       "50%            0.500000          0.500000          0.500000          0.500000   \n",
       "75%            0.750000          0.750000          0.750000          0.750000   \n",
       "max            1.000000          1.000000          1.000000          1.000000   \n",
       "\n",
       "       feature_wisdom45  feature_wisdom46         target          erano  \n",
       "count     501808.000000     501808.000000  501808.000000  501808.000000  \n",
       "mean           0.499979          0.499971       0.499997      64.001987  \n",
       "std            0.347689          0.353419       0.223268      33.332945  \n",
       "min            0.000000          0.000000       0.000000       1.000000  \n",
       "25%            0.250000          0.250000       0.500000      37.000000  \n",
       "50%            0.500000          0.500000       0.500000      64.000000  \n",
       "75%            0.750000          0.750000       0.500000      93.000000  \n",
       "max            1.000000          1.000000       1.000000     120.000000  \n",
       "\n",
       "[8 rows x 312 columns]"
      ]
     },
     "execution_count": 12,
     "metadata": {},
     "output_type": "execute_result"
    }
   ],
   "source": [
    "training_data.describe()"
   ]
  },
  {
   "cell_type": "code",
   "execution_count": 14,
   "metadata": {},
   "outputs": [
    {
     "data": {
      "text/plain": [
       "array([[<AxesSubplot:title={'center':'feature_intelligence1'}>,\n",
       "        <AxesSubplot:title={'center':'target'}>]], dtype=object)"
      ]
     },
     "execution_count": 14,
     "metadata": {},
     "output_type": "execute_result"
    },
    {
     "data": {
      "image/png": "[encoded data removed]",
      "text/plain": [
       "<Figure size 432x288 with 2 Axes>"
      ]
     },
     "metadata": {
      "needs_background": "light"
     },
     "output_type": "display_data"
    }
   ],
   "source": [
    "training_data[['feature_intelligence1', 'target']].hist()"
   ]
  },
  {
   "cell_type": "code",
   "execution_count": null,
   "metadata": {},
   "outputs": [],
   "source": []
  },
  {
   "cell_type": "code",
   "execution_count": null,
   "metadata": {},
   "outputs": [],
   "source": []
  },
  {
   "cell_type": "code",
   "execution_count": 15,
   "metadata": {},
   "outputs": [
    {
     "data": {
      "text/plain": [
       "LGBMRegressor(boosting_type='gbdt', class_weight=None, colsample_bytree=1.0,\n",
       "              importance_type='split', learning_rate=0.05, max_depth=-1,\n",
       "              metric='None', min_child_samples=20, min_child_weight=0.001,\n",
       "              min_split_gain=0.0, n_estimators=100, n_jobs=-1, num_leaves=31,\n",
       "              objective='mse', random_state=None, reg_alpha=0.0, reg_lambda=0.0,\n",
       "              silent=True, subsample=1.0, subsample_for_bin=200000,\n",
       "              subsample_freq=0)"
      ]
     },
     "execution_count": 15,
     "metadata": {},
     "output_type": "execute_result"
    }
   ],
   "source": [
    "clf = lgb.LGBMRegressor(n_estimators = 100, learning_rate = 0.05, objective='mse', metric='None')\n",
    "clf.fit(training_data[features], training_data[target])\n",
    "\n",
    "# , eval_set = [(X_test, Y_test)], eval_metric=correlation_score, early_stopping_rounds = 500, verbose=0"
   ]
  },
  {
   "cell_type": "code",
   "execution_count": null,
   "metadata": {},
   "outputs": [],
   "source": []
  },
  {
   "cell_type": "code",
   "execution_count": null,
   "metadata": {},
   "outputs": [],
   "source": [
    "\n",
    "def hyperopt_train_test(params):\n",
    "    \n",
    "    clf = lgb.LGBMRegressor(**params, objective='mse', metric='None')   \n",
    "    clf.fit(X_train[features], np.ravel(Y_train), eval_set = [(X_test, Y_test)], eval_metric=correlation_score, early_stopping_rounds = 500, verbose=0)\n",
    "    preds = clf.predict(X_test[features])\n",
    "    act = Y_test\n",
    "    spear_corr = stats.spearmanr(act, preds)[0]\n",
    "    \n",
    "    loss = -1.0*spear_corr\n",
    "    \n",
    "    return loss\n",
    "\n",
    "space = {'n_estimators': hp.choice('n_estimators', range(50,10000)),\n",
    "          'max_depth': hp.choice('max_depth', range(1,10)),\n",
    "          'colsample_bytree':hp.quniform('colsample_bytree', 0.005, 0.5, 0.005),\n",
    "          'learning_rate': hp.quniform('learning_rate', 0.005, 0.5, 0.005),\n",
    "          'subsample': hp.quniform('subsample', 0.05, 0.95, 0.01)}\n",
    "\n",
    "def f(params):\n",
    "    loss = hyperopt_train_test(params)\n",
    "    return {'loss': loss, 'status': STATUS_OK}\n",
    "\n",
    "trials = Trials()"
   ]
  },
  {
   "cell_type": "code",
   "execution_count": null,
   "metadata": {},
   "outputs": [],
   "source": []
  },
  {
   "cell_type": "code",
   "execution_count": null,
   "metadata": {},
   "outputs": [],
   "source": []
  }
 ],
 "metadata": {
  "kernelspec": {
   "display_name": "Python 3",
   "language": "python",
   "name": "python3"
  },
  "language_info": {
   "codemirror_mode": {
    "name": "ipython",
    "version": 3
   },
   "file_extension": ".py",
   "mimetype": "text/x-python",
   "name": "python",
   "nbconvert_exporter": "python",
   "pygments_lexer": "ipython3",
   "version": "3.7.6"
  }
 },
 "nbformat": 4,
 "nbformat_minor": 4
}
