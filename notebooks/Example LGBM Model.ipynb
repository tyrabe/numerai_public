{
 "cells": [
  {
   "cell_type": "code",
   "execution_count": 22,
   "metadata": {},
   "outputs": [
    {
     "data": {
      "text/html": [
       "<style>.container { width:100% !important; }</style>"
      ],
      "text/plain": [
       "<IPython.core.display.HTML object>"
      ]
     },
     "metadata": {},
     "output_type": "display_data"
    }
   ],
   "source": [
    "import pandas as pd\n",
    "import matplotlib.pyplot as plt \n",
    "import numpy as np\n",
    "import datetime\n",
    "import numerapi\n",
    "\n",
    "from sklearn import linear_model\n",
    "from sklearn import svm\n",
    "from sklearn.gaussian_process import GaussianProcessRegressor\n",
    "from sklearn.ensemble import GradientBoostingRegressor\n",
    "\n",
    "from sklearn.model_selection import KFold, cross_val_score, cross_validate\n",
    "from sklearn import linear_model\n",
    "from sklearn import metrics\n",
    "from sklearn.model_selection import train_test_split\n",
    "from sklearn.preprocessing import MinMaxScaler\n",
    "\n",
    "from hyperopt import fmin, tpe, hp, STATUS_OK, Trials\n",
    "\n",
    "import scipy\n",
    "import numpy\n",
    "from scipy import stats\n",
    "\n",
    "import lightgbm as lgb\n",
    "\n",
    "import sys\n",
    "sys.path.append(\"C:/Users/tyrab/tyler_python/numerai_public/\")\n",
    "\n",
    "from IPython.core.display import display, HTML\n",
    "display(HTML(\"<style>.container { width:100% !important; }</style>\"))"
   ]
  },
  {
   "cell_type": "code",
   "execution_count": 2,
   "metadata": {},
   "outputs": [],
   "source": [
    "# some API calls do not require logging in\n",
    "napi = numerapi.NumerAPI(verbosity=\"info\")"
   ]
  },
  {
   "cell_type": "code",
   "execution_count": 3,
   "metadata": {},
   "outputs": [
    {
     "name": "stderr",
     "output_type": "stream",
     "text": [
      "2022-04-27 06:16:14,366 INFO numerapi.base_api: getting rounds...\n",
      "C:\\Users\\tyrab\\AppData\\Roaming\\Python\\Python37\\site-packages\\cryptography\\hazmat\\backends\\openssl\\x509.py:17: CryptographyDeprecationWarning: This version of cryptography contains a temporary pyOpenSSL fallback path. Upgrade pyOpenSSL now.\n",
      "  utils.DeprecatedIn35,\n"
     ]
    },
    {
     "name": "stdout",
     "output_type": "stream",
     "text": [
      "no new round within the last 24 hours\n"
     ]
    }
   ],
   "source": [
    "# get competitions\n",
    "all_competitions = napi.get_competitions()\n",
    "# get leaderboard for the current round\n",
    "leaderboard = napi.get_leaderboard()\n",
    "# check if a new round has started\n",
    "if napi.check_new_round():\n",
    "    print(\"new round has started wihtin the last 24hours!\")\n",
    "else:\n",
    "    print(\"no new round within the last 24 hours\")"
   ]
  },
  {
   "cell_type": "code",
   "execution_count": 4,
   "metadata": {},
   "outputs": [
    {
     "name": "stderr",
     "output_type": "stream",
     "text": [
      "2022-04-27 06:16:21,726 INFO numerapi.utils: starting download\n",
      ".\\numerai_dataset_313.zip: 100%|███████████████████████████████████████████████████▉| 452M/453M [00:48<00:00, 9.67MB/s]2022-04-27 06:17:10,855 INFO numerapi.base_api: unzipping file...\n",
      ".\\numerai_dataset_313.zip: 453MB [01:00, 9.67MB/s]                                                                     "
     ]
    },
    {
     "data": {
      "text/plain": [
       "'.\\\\numerai_dataset_313.zip'"
      ]
     },
     "execution_count": 4,
     "metadata": {},
     "output_type": "execute_result"
    }
   ],
   "source": [
    "# download current dataset\n",
    "napi.download_current_dataset(unzip=True)"
   ]
  },
  {
   "cell_type": "code",
   "execution_count": 37,
   "metadata": {},
   "outputs": [
    {
     "name": "stderr",
     "output_type": "stream",
     "text": [
      "C:\\Users\\tyrab\\AppData\\Roaming\\Python\\Python37\\site-packages\\cryptography\\hazmat\\backends\\openssl\\x509.py:17: CryptographyDeprecationWarning: This version of cryptography contains a temporary pyOpenSSL fallback path. Upgrade pyOpenSSL now.\n",
      "  utils.DeprecatedIn35,\n"
     ]
    }
   ],
   "source": [
    "tournament_number = napi.get_current_round()\n",
    "TOURNAMENT_NAME = \"nomi\"\n",
    "TARGET_NAME = \"target\"\n",
    "PREDICTION_NAME = \"prediction\""
   ]
  },
  {
   "cell_type": "code",
   "execution_count": 6,
   "metadata": {},
   "outputs": [],
   "source": [
    "training_data = pd.read_csv(\"./numerai_dataset_\"+str(tournament_number)+\"/numerai_training_data.csv\")\n",
    "tournament_data = pd.read_csv(\"./numerai_dataset_\"+str(tournament_number)+\"/numerai_tournament_data.csv\")"
   ]
  },
  {
   "cell_type": "code",
   "execution_count": 27,
   "metadata": {},
   "outputs": [],
   "source": [
    "training_data['erano'] = training_data.era.str.strip('era').astype('int')\n",
    "\n",
    "validation_data = tournament_data[tournament_data.data_type == 'validation'].reset_index(drop=True)\n",
    "validation_data['erano'] = validation_data.era.str.strip('era').astype('int')"
   ]
  },
  {
   "cell_type": "code",
   "execution_count": 32,
   "metadata": {},
   "outputs": [],
   "source": [
    "train_val_combined = training_data.append(validation_data)"
   ]
  },
  {
   "cell_type": "markdown",
   "metadata": {},
   "source": [
    "# Lets Take a Closer Look at the Features and correlation with the target"
   ]
  },
  {
   "cell_type": "code",
   "execution_count": 105,
   "metadata": {},
   "outputs": [],
   "source": [
    "features = [f for f in train_val_combined.columns if 'feature' in f]"
   ]
  },
  {
   "cell_type": "code",
   "execution_count": 112,
   "metadata": {},
   "outputs": [],
   "source": [
    "corrs_by_era = train_val_combined.groupby(['data_type', 'erano']).corr(method='spearman')"
   ]
  },
  {
   "cell_type": "code",
   "execution_count": 122,
   "metadata": {},
   "outputs": [
    {
     "data": {
      "text/html": [
       "<div>\n",
       "<style scoped>\n",
       "    .dataframe tbody tr th:only-of-type {\n",
       "        vertical-align: middle;\n",
       "    }\n",
       "\n",
       "    .dataframe tbody tr th {\n",
       "        vertical-align: top;\n",
       "    }\n",
       "\n",
       "    .dataframe thead th {\n",
       "        text-align: right;\n",
       "    }\n",
       "</style>\n",
       "<table border=\"1\" class=\"dataframe\">\n",
       "  <thead>\n",
       "    <tr style=\"text-align: right;\">\n",
       "      <th></th>\n",
       "      <th></th>\n",
       "      <th></th>\n",
       "      <th>feature_intelligence1</th>\n",
       "      <th>feature_intelligence2</th>\n",
       "      <th>feature_intelligence3</th>\n",
       "      <th>feature_intelligence4</th>\n",
       "      <th>feature_intelligence5</th>\n",
       "      <th>feature_intelligence6</th>\n",
       "      <th>feature_intelligence7</th>\n",
       "      <th>feature_intelligence8</th>\n",
       "      <th>feature_intelligence9</th>\n",
       "      <th>feature_intelligence10</th>\n",
       "      <th>...</th>\n",
       "      <th>feature_wisdom39</th>\n",
       "      <th>feature_wisdom40</th>\n",
       "      <th>feature_wisdom41</th>\n",
       "      <th>feature_wisdom42</th>\n",
       "      <th>feature_wisdom43</th>\n",
       "      <th>feature_wisdom44</th>\n",
       "      <th>feature_wisdom45</th>\n",
       "      <th>feature_wisdom46</th>\n",
       "      <th>target</th>\n",
       "      <th>prediction</th>\n",
       "    </tr>\n",
       "    <tr>\n",
       "      <th>data_type</th>\n",
       "      <th>erano</th>\n",
       "      <th></th>\n",
       "      <th></th>\n",
       "      <th></th>\n",
       "      <th></th>\n",
       "      <th></th>\n",
       "      <th></th>\n",
       "      <th></th>\n",
       "      <th></th>\n",
       "      <th></th>\n",
       "      <th></th>\n",
       "      <th></th>\n",
       "      <th></th>\n",
       "      <th></th>\n",
       "      <th></th>\n",
       "      <th></th>\n",
       "      <th></th>\n",
       "      <th></th>\n",
       "      <th></th>\n",
       "      <th></th>\n",
       "      <th></th>\n",
       "      <th></th>\n",
       "      <th></th>\n",
       "    </tr>\n",
       "  </thead>\n",
       "  <tbody>\n",
       "    <tr>\n",
       "      <th rowspan=\"5\" valign=\"top\">train</th>\n",
       "      <th rowspan=\"5\" valign=\"top\">1</th>\n",
       "      <th>feature_intelligence1</th>\n",
       "      <td>1.000000</td>\n",
       "      <td>-0.183064</td>\n",
       "      <td>-0.215442</td>\n",
       "      <td>0.605645</td>\n",
       "      <td>-0.030718</td>\n",
       "      <td>0.163346</td>\n",
       "      <td>0.212536</td>\n",
       "      <td>0.678290</td>\n",
       "      <td>-0.391481</td>\n",
       "      <td>-0.381906</td>\n",
       "      <td>...</td>\n",
       "      <td>-0.081100</td>\n",
       "      <td>-0.122179</td>\n",
       "      <td>-0.131568</td>\n",
       "      <td>0.004498</td>\n",
       "      <td>0.158217</td>\n",
       "      <td>-0.144328</td>\n",
       "      <td>-0.111529</td>\n",
       "      <td>-0.208354</td>\n",
       "      <td>-0.018972</td>\n",
       "      <td>0.036341</td>\n",
       "    </tr>\n",
       "    <tr>\n",
       "      <th>feature_intelligence2</th>\n",
       "      <td>-0.183064</td>\n",
       "      <td>1.000000</td>\n",
       "      <td>0.915525</td>\n",
       "      <td>-0.265463</td>\n",
       "      <td>0.202574</td>\n",
       "      <td>-0.103570</td>\n",
       "      <td>-0.074097</td>\n",
       "      <td>-0.211914</td>\n",
       "      <td>0.491987</td>\n",
       "      <td>0.462686</td>\n",
       "      <td>...</td>\n",
       "      <td>-0.150436</td>\n",
       "      <td>0.043079</td>\n",
       "      <td>-0.061866</td>\n",
       "      <td>-0.222708</td>\n",
       "      <td>-0.277809</td>\n",
       "      <td>0.017897</td>\n",
       "      <td>-0.026170</td>\n",
       "      <td>-0.080134</td>\n",
       "      <td>0.026221</td>\n",
       "      <td>-0.052501</td>\n",
       "    </tr>\n",
       "    <tr>\n",
       "      <th>feature_intelligence3</th>\n",
       "      <td>-0.215442</td>\n",
       "      <td>0.915525</td>\n",
       "      <td>1.000000</td>\n",
       "      <td>-0.275010</td>\n",
       "      <td>0.181403</td>\n",
       "      <td>-0.094645</td>\n",
       "      <td>-0.089664</td>\n",
       "      <td>-0.221876</td>\n",
       "      <td>0.474907</td>\n",
       "      <td>0.465162</td>\n",
       "      <td>...</td>\n",
       "      <td>-0.158216</td>\n",
       "      <td>0.045739</td>\n",
       "      <td>-0.056370</td>\n",
       "      <td>-0.236134</td>\n",
       "      <td>-0.299822</td>\n",
       "      <td>0.015951</td>\n",
       "      <td>-0.003847</td>\n",
       "      <td>-0.069978</td>\n",
       "      <td>0.033954</td>\n",
       "      <td>-0.054694</td>\n",
       "    </tr>\n",
       "    <tr>\n",
       "      <th>feature_intelligence4</th>\n",
       "      <td>0.605645</td>\n",
       "      <td>-0.265463</td>\n",
       "      <td>-0.275010</td>\n",
       "      <td>1.000000</td>\n",
       "      <td>-0.021586</td>\n",
       "      <td>0.075758</td>\n",
       "      <td>0.102740</td>\n",
       "      <td>0.845787</td>\n",
       "      <td>-0.396227</td>\n",
       "      <td>-0.528982</td>\n",
       "      <td>...</td>\n",
       "      <td>-0.237656</td>\n",
       "      <td>-0.111281</td>\n",
       "      <td>-0.097346</td>\n",
       "      <td>-0.105286</td>\n",
       "      <td>0.086833</td>\n",
       "      <td>-0.138672</td>\n",
       "      <td>-0.096882</td>\n",
       "      <td>-0.327356</td>\n",
       "      <td>-0.015093</td>\n",
       "      <td>0.039428</td>\n",
       "    </tr>\n",
       "    <tr>\n",
       "      <th>feature_intelligence5</th>\n",
       "      <td>-0.030718</td>\n",
       "      <td>0.202574</td>\n",
       "      <td>0.181403</td>\n",
       "      <td>-0.021586</td>\n",
       "      <td>1.000000</td>\n",
       "      <td>-0.010793</td>\n",
       "      <td>-0.041719</td>\n",
       "      <td>-0.021586</td>\n",
       "      <td>0.107444</td>\n",
       "      <td>0.113888</td>\n",
       "      <td>...</td>\n",
       "      <td>-0.117196</td>\n",
       "      <td>-0.020550</td>\n",
       "      <td>-0.026543</td>\n",
       "      <td>-0.115661</td>\n",
       "      <td>-0.067193</td>\n",
       "      <td>-0.023926</td>\n",
       "      <td>-0.121366</td>\n",
       "      <td>-0.100877</td>\n",
       "      <td>0.026239</td>\n",
       "      <td>-0.045921</td>\n",
       "    </tr>\n",
       "  </tbody>\n",
       "</table>\n",
       "<p>5 rows × 312 columns</p>\n",
       "</div>"
      ],
      "text/plain": [
       "                                       feature_intelligence1  \\\n",
       "data_type erano                                                \n",
       "train     1     feature_intelligence1               1.000000   \n",
       "                feature_intelligence2              -0.183064   \n",
       "                feature_intelligence3              -0.215442   \n",
       "                feature_intelligence4               0.605645   \n",
       "                feature_intelligence5              -0.030718   \n",
       "\n",
       "                                       feature_intelligence2  \\\n",
       "data_type erano                                                \n",
       "train     1     feature_intelligence1              -0.183064   \n",
       "                feature_intelligence2               1.000000   \n",
       "                feature_intelligence3               0.915525   \n",
       "                feature_intelligence4              -0.265463   \n",
       "                feature_intelligence5               0.202574   \n",
       "\n",
       "                                       feature_intelligence3  \\\n",
       "data_type erano                                                \n",
       "train     1     feature_intelligence1              -0.215442   \n",
       "                feature_intelligence2               0.915525   \n",
       "                feature_intelligence3               1.000000   \n",
       "                feature_intelligence4              -0.275010   \n",
       "                feature_intelligence5               0.181403   \n",
       "\n",
       "                                       feature_intelligence4  \\\n",
       "data_type erano                                                \n",
       "train     1     feature_intelligence1               0.605645   \n",
       "                feature_intelligence2              -0.265463   \n",
       "                feature_intelligence3              -0.275010   \n",
       "                feature_intelligence4               1.000000   \n",
       "                feature_intelligence5              -0.021586   \n",
       "\n",
       "                                       feature_intelligence5  \\\n",
       "data_type erano                                                \n",
       "train     1     feature_intelligence1              -0.030718   \n",
       "                feature_intelligence2               0.202574   \n",
       "                feature_intelligence3               0.181403   \n",
       "                feature_intelligence4              -0.021586   \n",
       "                feature_intelligence5               1.000000   \n",
       "\n",
       "                                       feature_intelligence6  \\\n",
       "data_type erano                                                \n",
       "train     1     feature_intelligence1               0.163346   \n",
       "                feature_intelligence2              -0.103570   \n",
       "                feature_intelligence3              -0.094645   \n",
       "                feature_intelligence4               0.075758   \n",
       "                feature_intelligence5              -0.010793   \n",
       "\n",
       "                                       feature_intelligence7  \\\n",
       "data_type erano                                                \n",
       "train     1     feature_intelligence1               0.212536   \n",
       "                feature_intelligence2              -0.074097   \n",
       "                feature_intelligence3              -0.089664   \n",
       "                feature_intelligence4               0.102740   \n",
       "                feature_intelligence5              -0.041719   \n",
       "\n",
       "                                       feature_intelligence8  \\\n",
       "data_type erano                                                \n",
       "train     1     feature_intelligence1               0.678290   \n",
       "                feature_intelligence2              -0.211914   \n",
       "                feature_intelligence3              -0.221876   \n",
       "                feature_intelligence4               0.845787   \n",
       "                feature_intelligence5              -0.021586   \n",
       "\n",
       "                                       feature_intelligence9  \\\n",
       "data_type erano                                                \n",
       "train     1     feature_intelligence1              -0.391481   \n",
       "                feature_intelligence2               0.491987   \n",
       "                feature_intelligence3               0.474907   \n",
       "                feature_intelligence4              -0.396227   \n",
       "                feature_intelligence5               0.107444   \n",
       "\n",
       "                                       feature_intelligence10  ...  \\\n",
       "data_type erano                                                ...   \n",
       "train     1     feature_intelligence1               -0.381906  ...   \n",
       "                feature_intelligence2                0.462686  ...   \n",
       "                feature_intelligence3                0.465162  ...   \n",
       "                feature_intelligence4               -0.528982  ...   \n",
       "                feature_intelligence5                0.113888  ...   \n",
       "\n",
       "                                       feature_wisdom39  feature_wisdom40  \\\n",
       "data_type erano                                                             \n",
       "train     1     feature_intelligence1         -0.081100         -0.122179   \n",
       "                feature_intelligence2         -0.150436          0.043079   \n",
       "                feature_intelligence3         -0.158216          0.045739   \n",
       "                feature_intelligence4         -0.237656         -0.111281   \n",
       "                feature_intelligence5         -0.117196         -0.020550   \n",
       "\n",
       "                                       feature_wisdom41  feature_wisdom42  \\\n",
       "data_type erano                                                             \n",
       "train     1     feature_intelligence1         -0.131568          0.004498   \n",
       "                feature_intelligence2         -0.061866         -0.222708   \n",
       "                feature_intelligence3         -0.056370         -0.236134   \n",
       "                feature_intelligence4         -0.097346         -0.105286   \n",
       "                feature_intelligence5         -0.026543         -0.115661   \n",
       "\n",
       "                                       feature_wisdom43  feature_wisdom44  \\\n",
       "data_type erano                                                             \n",
       "train     1     feature_intelligence1          0.158217         -0.144328   \n",
       "                feature_intelligence2         -0.277809          0.017897   \n",
       "                feature_intelligence3         -0.299822          0.015951   \n",
       "                feature_intelligence4          0.086833         -0.138672   \n",
       "                feature_intelligence5         -0.067193         -0.023926   \n",
       "\n",
       "                                       feature_wisdom45  feature_wisdom46  \\\n",
       "data_type erano                                                             \n",
       "train     1     feature_intelligence1         -0.111529         -0.208354   \n",
       "                feature_intelligence2         -0.026170         -0.080134   \n",
       "                feature_intelligence3         -0.003847         -0.069978   \n",
       "                feature_intelligence4         -0.096882         -0.327356   \n",
       "                feature_intelligence5         -0.121366         -0.100877   \n",
       "\n",
       "                                         target  prediction  \n",
       "data_type erano                                              \n",
       "train     1     feature_intelligence1 -0.018972    0.036341  \n",
       "                feature_intelligence2  0.026221   -0.052501  \n",
       "                feature_intelligence3  0.033954   -0.054694  \n",
       "                feature_intelligence4 -0.015093    0.039428  \n",
       "                feature_intelligence5  0.026239   -0.045921  \n",
       "\n",
       "[5 rows x 312 columns]"
      ]
     },
     "execution_count": 122,
     "metadata": {},
     "output_type": "execute_result"
    }
   ],
   "source": [
    "corrs_by_era.head()"
   ]
  },
  {
   "cell_type": "code",
   "execution_count": null,
   "metadata": {},
   "outputs": [],
   "source": []
  },
  {
   "cell_type": "code",
   "execution_count": 118,
   "metadata": {},
   "outputs": [],
   "source": [
    "# Do some manipulation to get in a better format\n",
    "corrs_by_era1 = corrs_by_era.reset_index()\n",
    "corrs_by_era1 = corrs_by_era1.set_index(['data_type', 'erano', 'level_2']) \n",
    "corrs_by_era_w_target = corrs_by_era1['target'].reset_index()\n",
    "corrs_by_era_w_target = corrs_by_era_w_target.rename(columns={'level_2': 'feature', 'target': 'correlation'})\n",
    "corrs_by_era_w_target = corrs_by_era_w_target[(corrs_by_era_w_target.feature.isin(features))]"
   ]
  },
  {
   "cell_type": "code",
   "execution_count": 229,
   "metadata": {},
   "outputs": [],
   "source": [
    "avg_corr = corrs_by_era_w_target.groupby('feature').correlation.mean().reset_index()\n",
    "avg_std = corrs_by_era_w_target.groupby('feature').correlation.std().reset_index()\n",
    "avg_skew = corrs_by_era_w_target.groupby('feature').correlation.skew().reset_index()\n",
    "avg_std = avg_std.rename(columns={'correlation': 'stddev'})\n",
    "avg_skew = avg_skew.rename(columns={'correlation': 'skewness'})\n",
    "avg_corr_std = avg_corr.merge(avg_std, left_on = 'feature', right_on = 'feature')\n",
    "avg_corr_std_skew = avg_corr_std.merge(avg_skew, left_on = 'feature', right_on = 'feature') "
   ]
  },
  {
   "cell_type": "code",
   "execution_count": 230,
   "metadata": {},
   "outputs": [],
   "source": [
    "# Add a color to the feature groups \n",
    "cat_group = []\n",
    "for feat in avg_corr_std_skew.feature:\n",
    "    if 'intelligence' in feat:\n",
    "        cat_group += ['intelligence']\n",
    "    elif 'charisma' in feat:\n",
    "        cat_group += ['charisma']\n",
    "    elif 'strength' in feat:\n",
    "        cat_group += ['strength']\n",
    "    elif 'dexterity' in feat:\n",
    "        cat_group += ['dexterity']\n",
    "    elif 'constitution' in feat:\n",
    "        cat_group += ['constitution']\n",
    "    elif 'wisdom' in feat:\n",
    "        cat_group += ['wisdom']\n",
    "        \n",
    "avg_corr_std_skew['feat_cat_group'] = cat_group\n",
    "\n",
    "conditions = [\n",
    "    (stack_frame['feat_cat_group'] == 'charisma'),\n",
    "    (stack_frame['feat_cat_group'] == 'constitution'),\n",
    "    (stack_frame['feat_cat_group'] == 'dexterity'),\n",
    "    (stack_frame['feat_cat_group'] == 'intelligence'),\n",
    "    (stack_frame['feat_cat_group'] == 'strength'),\n",
    "    (stack_frame['feat_cat_group'] == 'wisdom')\n",
    "    ]\n",
    "\n",
    "# create a list of the values we want to assign for each condition\n",
    "values = ['red', 'blue', 'green', 'yellow', 'orange', 'black']\n",
    "\n",
    "# create a new column and use np.select to assign values to it using our lists as arguments\n",
    "avg_corr_std_skew['color'] = np.select(conditions, values)"
   ]
  },
  {
   "cell_type": "code",
   "execution_count": 234,
   "metadata": {},
   "outputs": [],
   "source": [
    "avg_corr_std_skew['sharpe'] = avg_corr_std_skew.stddev/abs(avg_corr_std_skew.correlation)\n",
    "avg_corr_std_skew = avg_corr_std_skew.sort_values(by='correlation')"
   ]
  },
  {
   "cell_type": "code",
   "execution_count": 235,
   "metadata": {},
   "outputs": [
    {
     "data": {
      "text/plain": [
       "<BarContainer object of 310 artists>"
      ]
     },
     "execution_count": 235,
     "metadata": {},
     "output_type": "execute_result"
    },
    {
     "data": {
      "image/png": "[encoded data removed]",
      "text/plain": [
       "<Figure size 2160x1080 with 4 Axes>"
      ]
     },
     "metadata": {
      "needs_background": "light"
     },
     "output_type": "display_data"
    }
   ],
   "source": [
    "fig, ax = plt.subplots(4,1, figsize=(30,15), sharex=True)\n",
    "ax[0].bar(avg_corr_std_skew.feature, avg_corr_std_skew.correlation, color=avg_corr_std_skew.color)\n",
    "ax[1].bar(avg_corr_std_skew.feature, avg_corr_std_skew.stddev, color=avg_corr_std_skew.color)\n",
    "ax[2].bar(avg_corr_std_skew.feature, avg_corr_std_skew.sharpe, color=avg_corr_std_skew.color)\n",
    "ax[3].bar(avg_corr_std_skew.feature, avg_corr_std_skew.skewness, color=avg_corr_std_skew.color)"
   ]
  },
  {
   "cell_type": "code",
   "execution_count": 233,
   "metadata": {},
   "outputs": [],
   "source": [
    "def get_feature_stats(df):\n",
    "    \n",
    "    stack_frame = pd.DataFrame()\n",
    "    feat_list = df.feature.unique()\n",
    "    \n",
    "    for feat in feat_list:\n",
    "        feature_frame = df[df.feature == feat].reset_index(drop=True)\n",
    "        mean = feature_frame.groupby(['data_type', 'feature']).correlation.mean().reset_index()\n",
    "        std = feature_frame.groupby(['data_type', 'feature']).correlation.std().reset_index()\n",
    "        frame = [[feat, mean.correlation.values[0], std.correlation.values[0]]]\n",
    "        df_pd = pd.DataFrame(frame, columns=['data_type', 'feature', 'mean_corr', 'std_corr'])\n",
    "        stack_frame = stack_frame.append(df_pd)\n",
    "        \n",
    "    return stack_frame\n",
    "    "
   ]
  },
  {
   "cell_type": "code",
   "execution_count": 215,
   "metadata": {},
   "outputs": [
    {
     "ename": "ValueError",
     "evalue": "4 columns passed, passed data had 3 columns",
     "output_type": "error",
     "traceback": [
      "\u001b[1;31m---------------------------------------------------------------------------\u001b[0m",
      "\u001b[1;31mAssertionError\u001b[0m                            Traceback (most recent call last)",
      "\u001b[1;32m~\\AppData\\Roaming\\Python\\Python37\\site-packages\\pandas\\core\\internals\\construction.py\u001b[0m in \u001b[0;36m_list_to_arrays\u001b[1;34m(data, columns, coerce_float, dtype)\u001b[0m\n\u001b[0;32m    567\u001b[0m     \u001b[1;32mtry\u001b[0m\u001b[1;33m:\u001b[0m\u001b[1;33m\u001b[0m\u001b[1;33m\u001b[0m\u001b[0m\n\u001b[1;32m--> 568\u001b[1;33m         \u001b[0mcolumns\u001b[0m \u001b[1;33m=\u001b[0m \u001b[0m_validate_or_indexify_columns\u001b[0m\u001b[1;33m(\u001b[0m\u001b[0mcontent\u001b[0m\u001b[1;33m,\u001b[0m \u001b[0mcolumns\u001b[0m\u001b[1;33m)\u001b[0m\u001b[1;33m\u001b[0m\u001b[1;33m\u001b[0m\u001b[0m\n\u001b[0m\u001b[0;32m    569\u001b[0m         \u001b[0mresult\u001b[0m \u001b[1;33m=\u001b[0m \u001b[0m_convert_object_array\u001b[0m\u001b[1;33m(\u001b[0m\u001b[0mcontent\u001b[0m\u001b[1;33m,\u001b[0m \u001b[0mdtype\u001b[0m\u001b[1;33m=\u001b[0m\u001b[0mdtype\u001b[0m\u001b[1;33m,\u001b[0m \u001b[0mcoerce_float\u001b[0m\u001b[1;33m=\u001b[0m\u001b[0mcoerce_float\u001b[0m\u001b[1;33m)\u001b[0m\u001b[1;33m\u001b[0m\u001b[1;33m\u001b[0m\u001b[0m\n",
      "\u001b[1;32m~\\AppData\\Roaming\\Python\\Python37\\site-packages\\pandas\\core\\internals\\construction.py\u001b[0m in \u001b[0;36m_validate_or_indexify_columns\u001b[1;34m(content, columns)\u001b[0m\n\u001b[0;32m    692\u001b[0m             raise AssertionError(\n\u001b[1;32m--> 693\u001b[1;33m                 \u001b[1;34mf\"{len(columns)} columns passed, passed data had \"\u001b[0m\u001b[1;33m\u001b[0m\u001b[1;33m\u001b[0m\u001b[0m\n\u001b[0m\u001b[0;32m    694\u001b[0m                 \u001b[1;34mf\"{len(content)} columns\"\u001b[0m\u001b[1;33m\u001b[0m\u001b[1;33m\u001b[0m\u001b[0m\n",
      "\u001b[1;31mAssertionError\u001b[0m: 4 columns passed, passed data had 3 columns",
      "\nThe above exception was the direct cause of the following exception:\n",
      "\u001b[1;31mValueError\u001b[0m                                Traceback (most recent call last)",
      "\u001b[1;32m<ipython-input-215-72a22a57ff50>\u001b[0m in \u001b[0;36m<module>\u001b[1;34m\u001b[0m\n\u001b[1;32m----> 1\u001b[1;33m \u001b[0mstack_frame\u001b[0m \u001b[1;33m=\u001b[0m \u001b[0mget_feature_stats\u001b[0m\u001b[1;33m(\u001b[0m\u001b[0mcorrs_by_era_w_target\u001b[0m\u001b[1;33m)\u001b[0m\u001b[1;33m\u001b[0m\u001b[1;33m\u001b[0m\u001b[0m\n\u001b[0m",
      "\u001b[1;32m<ipython-input-214-97048ac763f1>\u001b[0m in \u001b[0;36mget_feature_stats\u001b[1;34m(df)\u001b[0m\n\u001b[0;32m      9\u001b[0m         \u001b[0mstd\u001b[0m \u001b[1;33m=\u001b[0m \u001b[0mfeature_frame\u001b[0m\u001b[1;33m.\u001b[0m\u001b[0mgroupby\u001b[0m\u001b[1;33m(\u001b[0m\u001b[1;33m[\u001b[0m\u001b[1;34m'data_type'\u001b[0m\u001b[1;33m,\u001b[0m \u001b[1;34m'feature'\u001b[0m\u001b[1;33m]\u001b[0m\u001b[1;33m)\u001b[0m\u001b[1;33m.\u001b[0m\u001b[0mcorrelation\u001b[0m\u001b[1;33m.\u001b[0m\u001b[0mstd\u001b[0m\u001b[1;33m(\u001b[0m\u001b[1;33m)\u001b[0m\u001b[1;33m.\u001b[0m\u001b[0mreset_index\u001b[0m\u001b[1;33m(\u001b[0m\u001b[1;33m)\u001b[0m\u001b[1;33m\u001b[0m\u001b[1;33m\u001b[0m\u001b[0m\n\u001b[0;32m     10\u001b[0m         \u001b[0mframe\u001b[0m \u001b[1;33m=\u001b[0m \u001b[1;33m[\u001b[0m\u001b[1;33m[\u001b[0m\u001b[0mfeat\u001b[0m\u001b[1;33m,\u001b[0m \u001b[0mmean\u001b[0m\u001b[1;33m.\u001b[0m\u001b[0mcorrelation\u001b[0m\u001b[1;33m.\u001b[0m\u001b[0mvalues\u001b[0m\u001b[1;33m[\u001b[0m\u001b[1;36m0\u001b[0m\u001b[1;33m]\u001b[0m\u001b[1;33m,\u001b[0m \u001b[0mstd\u001b[0m\u001b[1;33m.\u001b[0m\u001b[0mcorrelation\u001b[0m\u001b[1;33m.\u001b[0m\u001b[0mvalues\u001b[0m\u001b[1;33m[\u001b[0m\u001b[1;36m0\u001b[0m\u001b[1;33m]\u001b[0m\u001b[1;33m]\u001b[0m\u001b[1;33m]\u001b[0m\u001b[1;33m\u001b[0m\u001b[1;33m\u001b[0m\u001b[0m\n\u001b[1;32m---> 11\u001b[1;33m         \u001b[0mdf_pd\u001b[0m \u001b[1;33m=\u001b[0m \u001b[0mpd\u001b[0m\u001b[1;33m.\u001b[0m\u001b[0mDataFrame\u001b[0m\u001b[1;33m(\u001b[0m\u001b[0mframe\u001b[0m\u001b[1;33m,\u001b[0m \u001b[0mcolumns\u001b[0m\u001b[1;33m=\u001b[0m\u001b[1;33m[\u001b[0m\u001b[1;34m'data_type'\u001b[0m\u001b[1;33m,\u001b[0m \u001b[1;34m'feature'\u001b[0m\u001b[1;33m,\u001b[0m \u001b[1;34m'mean_corr'\u001b[0m\u001b[1;33m,\u001b[0m \u001b[1;34m'std_corr'\u001b[0m\u001b[1;33m]\u001b[0m\u001b[1;33m)\u001b[0m\u001b[1;33m\u001b[0m\u001b[1;33m\u001b[0m\u001b[0m\n\u001b[0m\u001b[0;32m     12\u001b[0m         \u001b[0mstack_frame\u001b[0m \u001b[1;33m=\u001b[0m \u001b[0mstack_frame\u001b[0m\u001b[1;33m.\u001b[0m\u001b[0mappend\u001b[0m\u001b[1;33m(\u001b[0m\u001b[0mdf_pd\u001b[0m\u001b[1;33m)\u001b[0m\u001b[1;33m\u001b[0m\u001b[1;33m\u001b[0m\u001b[0m\n\u001b[0;32m     13\u001b[0m \u001b[1;33m\u001b[0m\u001b[0m\n",
      "\u001b[1;32m~\\AppData\\Roaming\\Python\\Python37\\site-packages\\pandas\\core\\frame.py\u001b[0m in \u001b[0;36m__init__\u001b[1;34m(self, data, index, columns, dtype, copy)\u001b[0m\n\u001b[0;32m    568\u001b[0m                     \u001b[1;32mif\u001b[0m \u001b[0mis_named_tuple\u001b[0m\u001b[1;33m(\u001b[0m\u001b[0mdata\u001b[0m\u001b[1;33m[\u001b[0m\u001b[1;36m0\u001b[0m\u001b[1;33m]\u001b[0m\u001b[1;33m)\u001b[0m \u001b[1;32mand\u001b[0m \u001b[0mcolumns\u001b[0m \u001b[1;32mis\u001b[0m \u001b[1;32mNone\u001b[0m\u001b[1;33m:\u001b[0m\u001b[1;33m\u001b[0m\u001b[1;33m\u001b[0m\u001b[0m\n\u001b[0;32m    569\u001b[0m                         \u001b[0mcolumns\u001b[0m \u001b[1;33m=\u001b[0m \u001b[0mdata\u001b[0m\u001b[1;33m[\u001b[0m\u001b[1;36m0\u001b[0m\u001b[1;33m]\u001b[0m\u001b[1;33m.\u001b[0m\u001b[0m_fields\u001b[0m\u001b[1;33m\u001b[0m\u001b[1;33m\u001b[0m\u001b[0m\n\u001b[1;32m--> 570\u001b[1;33m                     \u001b[0marrays\u001b[0m\u001b[1;33m,\u001b[0m \u001b[0mcolumns\u001b[0m \u001b[1;33m=\u001b[0m \u001b[0mto_arrays\u001b[0m\u001b[1;33m(\u001b[0m\u001b[0mdata\u001b[0m\u001b[1;33m,\u001b[0m \u001b[0mcolumns\u001b[0m\u001b[1;33m,\u001b[0m \u001b[0mdtype\u001b[0m\u001b[1;33m=\u001b[0m\u001b[0mdtype\u001b[0m\u001b[1;33m)\u001b[0m\u001b[1;33m\u001b[0m\u001b[1;33m\u001b[0m\u001b[0m\n\u001b[0m\u001b[0;32m    571\u001b[0m                     \u001b[0mcolumns\u001b[0m \u001b[1;33m=\u001b[0m \u001b[0mensure_index\u001b[0m\u001b[1;33m(\u001b[0m\u001b[0mcolumns\u001b[0m\u001b[1;33m)\u001b[0m\u001b[1;33m\u001b[0m\u001b[1;33m\u001b[0m\u001b[0m\n\u001b[0;32m    572\u001b[0m \u001b[1;33m\u001b[0m\u001b[0m\n",
      "\u001b[1;32m~\\AppData\\Roaming\\Python\\Python37\\site-packages\\pandas\\core\\internals\\construction.py\u001b[0m in \u001b[0;36mto_arrays\u001b[1;34m(data, columns, coerce_float, dtype)\u001b[0m\n\u001b[0;32m    526\u001b[0m         \u001b[1;32mreturn\u001b[0m \u001b[1;33m[\u001b[0m\u001b[1;33m]\u001b[0m\u001b[1;33m,\u001b[0m \u001b[1;33m[\u001b[0m\u001b[1;33m]\u001b[0m  \u001b[1;31m# columns if columns is not None else []\u001b[0m\u001b[1;33m\u001b[0m\u001b[1;33m\u001b[0m\u001b[0m\n\u001b[0;32m    527\u001b[0m     \u001b[1;32mif\u001b[0m \u001b[0misinstance\u001b[0m\u001b[1;33m(\u001b[0m\u001b[0mdata\u001b[0m\u001b[1;33m[\u001b[0m\u001b[1;36m0\u001b[0m\u001b[1;33m]\u001b[0m\u001b[1;33m,\u001b[0m \u001b[1;33m(\u001b[0m\u001b[0mlist\u001b[0m\u001b[1;33m,\u001b[0m \u001b[0mtuple\u001b[0m\u001b[1;33m)\u001b[0m\u001b[1;33m)\u001b[0m\u001b[1;33m:\u001b[0m\u001b[1;33m\u001b[0m\u001b[1;33m\u001b[0m\u001b[0m\n\u001b[1;32m--> 528\u001b[1;33m         \u001b[1;32mreturn\u001b[0m \u001b[0m_list_to_arrays\u001b[0m\u001b[1;33m(\u001b[0m\u001b[0mdata\u001b[0m\u001b[1;33m,\u001b[0m \u001b[0mcolumns\u001b[0m\u001b[1;33m,\u001b[0m \u001b[0mcoerce_float\u001b[0m\u001b[1;33m=\u001b[0m\u001b[0mcoerce_float\u001b[0m\u001b[1;33m,\u001b[0m \u001b[0mdtype\u001b[0m\u001b[1;33m=\u001b[0m\u001b[0mdtype\u001b[0m\u001b[1;33m)\u001b[0m\u001b[1;33m\u001b[0m\u001b[1;33m\u001b[0m\u001b[0m\n\u001b[0m\u001b[0;32m    529\u001b[0m     \u001b[1;32melif\u001b[0m \u001b[0misinstance\u001b[0m\u001b[1;33m(\u001b[0m\u001b[0mdata\u001b[0m\u001b[1;33m[\u001b[0m\u001b[1;36m0\u001b[0m\u001b[1;33m]\u001b[0m\u001b[1;33m,\u001b[0m \u001b[0mabc\u001b[0m\u001b[1;33m.\u001b[0m\u001b[0mMapping\u001b[0m\u001b[1;33m)\u001b[0m\u001b[1;33m:\u001b[0m\u001b[1;33m\u001b[0m\u001b[1;33m\u001b[0m\u001b[0m\n\u001b[0;32m    530\u001b[0m         return _list_of_dict_to_arrays(\n",
      "\u001b[1;32m~\\AppData\\Roaming\\Python\\Python37\\site-packages\\pandas\\core\\internals\\construction.py\u001b[0m in \u001b[0;36m_list_to_arrays\u001b[1;34m(data, columns, coerce_float, dtype)\u001b[0m\n\u001b[0;32m    569\u001b[0m         \u001b[0mresult\u001b[0m \u001b[1;33m=\u001b[0m \u001b[0m_convert_object_array\u001b[0m\u001b[1;33m(\u001b[0m\u001b[0mcontent\u001b[0m\u001b[1;33m,\u001b[0m \u001b[0mdtype\u001b[0m\u001b[1;33m=\u001b[0m\u001b[0mdtype\u001b[0m\u001b[1;33m,\u001b[0m \u001b[0mcoerce_float\u001b[0m\u001b[1;33m=\u001b[0m\u001b[0mcoerce_float\u001b[0m\u001b[1;33m)\u001b[0m\u001b[1;33m\u001b[0m\u001b[1;33m\u001b[0m\u001b[0m\n\u001b[0;32m    570\u001b[0m     \u001b[1;32mexcept\u001b[0m \u001b[0mAssertionError\u001b[0m \u001b[1;32mas\u001b[0m \u001b[0me\u001b[0m\u001b[1;33m:\u001b[0m\u001b[1;33m\u001b[0m\u001b[1;33m\u001b[0m\u001b[0m\n\u001b[1;32m--> 571\u001b[1;33m         \u001b[1;32mraise\u001b[0m \u001b[0mValueError\u001b[0m\u001b[1;33m(\u001b[0m\u001b[0me\u001b[0m\u001b[1;33m)\u001b[0m \u001b[1;32mfrom\u001b[0m \u001b[0me\u001b[0m\u001b[1;33m\u001b[0m\u001b[1;33m\u001b[0m\u001b[0m\n\u001b[0m\u001b[0;32m    572\u001b[0m     \u001b[1;32mreturn\u001b[0m \u001b[0mresult\u001b[0m\u001b[1;33m,\u001b[0m \u001b[0mcolumns\u001b[0m\u001b[1;33m\u001b[0m\u001b[1;33m\u001b[0m\u001b[0m\n\u001b[0;32m    573\u001b[0m \u001b[1;33m\u001b[0m\u001b[0m\n",
      "\u001b[1;31mValueError\u001b[0m: 4 columns passed, passed data had 3 columns"
     ]
    }
   ],
   "source": [
    "stack_frame = get_feature_stats(corrs_by_era_w_target)"
   ]
  },
  {
   "cell_type": "code",
   "execution_count": 213,
   "metadata": {},
   "outputs": [],
   "source": []
  },
  {
   "cell_type": "code",
   "execution_count": 210,
   "metadata": {},
   "outputs": [
    {
     "data": {
      "text/plain": [
       "<BarContainer object of 310 artists>"
      ]
     },
     "execution_count": 210,
     "metadata": {},
     "output_type": "execute_result"
    },
    {
     "data": {
      "image/png": "[encoded data removed]",
      "text/plain": [
       "<Figure size 1440x360 with 1 Axes>"
      ]
     },
     "metadata": {
      "needs_background": "light"
     },
     "output_type": "display_data"
    }
   ],
   "source": [
    "plt.figure(figsize=(20,5))\n",
    "plt.bar(stack_frame.feature, stack_frame.mean_corr)\n",
    "\n",
    "fig, ax = plt.subplots(2,1, figsize=(20,10), sharex=True)\n",
    "ax[0].bar(avg_corr_train.feature, avg_corr_train.correlation, color=avg_corr_train.color)\n",
    "ax[1].bar(avg_corr_val.feature, avg_corr_val.correlation, color=avg_corr_val.color)"
   ]
  },
  {
   "cell_type": "code",
   "execution_count": 137,
   "metadata": {},
   "outputs": [
    {
     "data": {
      "text/html": [
       "<div>\n",
       "<style scoped>\n",
       "    .dataframe tbody tr th:only-of-type {\n",
       "        vertical-align: middle;\n",
       "    }\n",
       "\n",
       "    .dataframe tbody tr th {\n",
       "        vertical-align: top;\n",
       "    }\n",
       "\n",
       "    .dataframe thead th {\n",
       "        text-align: right;\n",
       "    }\n",
       "</style>\n",
       "<table border=\"1\" class=\"dataframe\">\n",
       "  <thead>\n",
       "    <tr style=\"text-align: right;\">\n",
       "      <th></th>\n",
       "      <th>feature</th>\n",
       "      <th>data_type</th>\n",
       "      <th>average_corr</th>\n",
       "      <th>std_corr</th>\n",
       "    </tr>\n",
       "  </thead>\n",
       "  <tbody>\n",
       "    <tr>\n",
       "      <th>0</th>\n",
       "      <td>feature_charisma1</td>\n",
       "      <td>train</td>\n",
       "      <td>0.010012</td>\n",
       "      <td>0.020330</td>\n",
       "    </tr>\n",
       "    <tr>\n",
       "      <th>1</th>\n",
       "      <td>feature_charisma1</td>\n",
       "      <td>validation</td>\n",
       "      <td>0.009026</td>\n",
       "      <td>0.022064</td>\n",
       "    </tr>\n",
       "    <tr>\n",
       "      <th>2</th>\n",
       "      <td>feature_charisma10</td>\n",
       "      <td>train</td>\n",
       "      <td>0.009214</td>\n",
       "      <td>0.020723</td>\n",
       "    </tr>\n",
       "    <tr>\n",
       "      <th>3</th>\n",
       "      <td>feature_charisma10</td>\n",
       "      <td>validation</td>\n",
       "      <td>0.004692</td>\n",
       "      <td>0.019886</td>\n",
       "    </tr>\n",
       "    <tr>\n",
       "      <th>4</th>\n",
       "      <td>feature_charisma11</td>\n",
       "      <td>train</td>\n",
       "      <td>0.008886</td>\n",
       "      <td>0.019954</td>\n",
       "    </tr>\n",
       "    <tr>\n",
       "      <th>...</th>\n",
       "      <td>...</td>\n",
       "      <td>...</td>\n",
       "      <td>...</td>\n",
       "      <td>...</td>\n",
       "    </tr>\n",
       "    <tr>\n",
       "      <th>615</th>\n",
       "      <td>feature_wisdom7</td>\n",
       "      <td>validation</td>\n",
       "      <td>-0.000735</td>\n",
       "      <td>0.015805</td>\n",
       "    </tr>\n",
       "    <tr>\n",
       "      <th>616</th>\n",
       "      <td>feature_wisdom8</td>\n",
       "      <td>train</td>\n",
       "      <td>0.004979</td>\n",
       "      <td>0.024691</td>\n",
       "    </tr>\n",
       "    <tr>\n",
       "      <th>617</th>\n",
       "      <td>feature_wisdom8</td>\n",
       "      <td>validation</td>\n",
       "      <td>0.005209</td>\n",
       "      <td>0.024772</td>\n",
       "    </tr>\n",
       "    <tr>\n",
       "      <th>618</th>\n",
       "      <td>feature_wisdom9</td>\n",
       "      <td>train</td>\n",
       "      <td>0.003514</td>\n",
       "      <td>0.020679</td>\n",
       "    </tr>\n",
       "    <tr>\n",
       "      <th>619</th>\n",
       "      <td>feature_wisdom9</td>\n",
       "      <td>validation</td>\n",
       "      <td>-0.001850</td>\n",
       "      <td>0.024636</td>\n",
       "    </tr>\n",
       "  </tbody>\n",
       "</table>\n",
       "<p>620 rows × 4 columns</p>\n",
       "</div>"
      ],
      "text/plain": [
       "                feature   data_type  average_corr  std_corr\n",
       "0     feature_charisma1       train      0.010012  0.020330\n",
       "1     feature_charisma1  validation      0.009026  0.022064\n",
       "2    feature_charisma10       train      0.009214  0.020723\n",
       "3    feature_charisma10  validation      0.004692  0.019886\n",
       "4    feature_charisma11       train      0.008886  0.019954\n",
       "..                  ...         ...           ...       ...\n",
       "615     feature_wisdom7  validation     -0.000735  0.015805\n",
       "616     feature_wisdom8       train      0.004979  0.024691\n",
       "617     feature_wisdom8  validation      0.005209  0.024772\n",
       "618     feature_wisdom9       train      0.003514  0.020679\n",
       "619     feature_wisdom9  validation     -0.001850  0.024636\n",
       "\n",
       "[620 rows x 4 columns]"
      ]
     },
     "execution_count": 137,
     "metadata": {},
     "output_type": "execute_result"
    }
   ],
   "source": [
    "corrs_by_era_w_target.groupby(['feature', 'data_type']).correlation.agg(average_corr = 'mean', std_corr = 'std').reset_index()"
   ]
  },
  {
   "cell_type": "code",
   "execution_count": 62,
   "metadata": {},
   "outputs": [],
   "source": [
    "obs_count = train_val_combined.groupby('erano').target.count()"
   ]
  },
  {
   "cell_type": "code",
   "execution_count": 63,
   "metadata": {},
   "outputs": [
    {
     "data": {
      "text/plain": [
       "<BarContainer object of 148 artists>"
      ]
     },
     "execution_count": 63,
     "metadata": {},
     "output_type": "execute_result"
    },
    {
     "data": {
      "image/png": "[encoded data removed]",
      "text/plain": [
       "<Figure size 432x288 with 1 Axes>"
      ]
     },
     "metadata": {
      "needs_background": "light"
     },
     "output_type": "display_data"
    }
   ],
   "source": [
    "plt.bar(obs_count.index, obs_count.values)"
   ]
  },
  {
   "cell_type": "code",
   "execution_count": 8,
   "metadata": {},
   "outputs": [],
   "source": [
    "features = [f for f in training_data.columns if 'feature' in f]\n",
    "target = [f for f in training_data.columns if 'target' in f]"
   ]
  },
  {
   "cell_type": "code",
   "execution_count": 12,
   "metadata": {},
   "outputs": [
    {
     "data": {
      "text/html": [
       "<div>\n",
       "<style scoped>\n",
       "    .dataframe tbody tr th:only-of-type {\n",
       "        vertical-align: middle;\n",
       "    }\n",
       "\n",
       "    .dataframe tbody tr th {\n",
       "        vertical-align: top;\n",
       "    }\n",
       "\n",
       "    .dataframe thead th {\n",
       "        text-align: right;\n",
       "    }\n",
       "</style>\n",
       "<table border=\"1\" class=\"dataframe\">\n",
       "  <thead>\n",
       "    <tr style=\"text-align: right;\">\n",
       "      <th></th>\n",
       "      <th>feature_intelligence1</th>\n",
       "      <th>feature_intelligence2</th>\n",
       "      <th>feature_intelligence3</th>\n",
       "      <th>feature_intelligence4</th>\n",
       "      <th>feature_intelligence5</th>\n",
       "      <th>feature_intelligence6</th>\n",
       "      <th>feature_intelligence7</th>\n",
       "      <th>feature_intelligence8</th>\n",
       "      <th>feature_intelligence9</th>\n",
       "      <th>feature_intelligence10</th>\n",
       "      <th>...</th>\n",
       "      <th>feature_wisdom39</th>\n",
       "      <th>feature_wisdom40</th>\n",
       "      <th>feature_wisdom41</th>\n",
       "      <th>feature_wisdom42</th>\n",
       "      <th>feature_wisdom43</th>\n",
       "      <th>feature_wisdom44</th>\n",
       "      <th>feature_wisdom45</th>\n",
       "      <th>feature_wisdom46</th>\n",
       "      <th>target</th>\n",
       "      <th>erano</th>\n",
       "    </tr>\n",
       "  </thead>\n",
       "  <tbody>\n",
       "    <tr>\n",
       "      <th>count</th>\n",
       "      <td>501808.000000</td>\n",
       "      <td>501808.000000</td>\n",
       "      <td>501808.000000</td>\n",
       "      <td>501808.000000</td>\n",
       "      <td>501808.000000</td>\n",
       "      <td>501808.000000</td>\n",
       "      <td>501808.000000</td>\n",
       "      <td>501808.000000</td>\n",
       "      <td>501808.000000</td>\n",
       "      <td>501808.000000</td>\n",
       "      <td>...</td>\n",
       "      <td>501808.000000</td>\n",
       "      <td>501808.000000</td>\n",
       "      <td>501808.000000</td>\n",
       "      <td>501808.000000</td>\n",
       "      <td>501808.000000</td>\n",
       "      <td>501808.000000</td>\n",
       "      <td>501808.000000</td>\n",
       "      <td>501808.000000</td>\n",
       "      <td>501808.000000</td>\n",
       "      <td>501808.000000</td>\n",
       "    </tr>\n",
       "    <tr>\n",
       "      <th>mean</th>\n",
       "      <td>0.499981</td>\n",
       "      <td>0.499979</td>\n",
       "      <td>0.499979</td>\n",
       "      <td>0.499981</td>\n",
       "      <td>0.499977</td>\n",
       "      <td>0.499977</td>\n",
       "      <td>0.499977</td>\n",
       "      <td>0.499981</td>\n",
       "      <td>0.499980</td>\n",
       "      <td>0.499980</td>\n",
       "      <td>...</td>\n",
       "      <td>0.499982</td>\n",
       "      <td>0.499974</td>\n",
       "      <td>0.499980</td>\n",
       "      <td>0.499982</td>\n",
       "      <td>0.499980</td>\n",
       "      <td>0.499974</td>\n",
       "      <td>0.499979</td>\n",
       "      <td>0.499971</td>\n",
       "      <td>0.499997</td>\n",
       "      <td>64.001987</td>\n",
       "    </tr>\n",
       "    <tr>\n",
       "      <th>std</th>\n",
       "      <td>0.353596</td>\n",
       "      <td>0.353593</td>\n",
       "      <td>0.353593</td>\n",
       "      <td>0.353596</td>\n",
       "      <td>0.353587</td>\n",
       "      <td>0.353587</td>\n",
       "      <td>0.353587</td>\n",
       "      <td>0.353596</td>\n",
       "      <td>0.352099</td>\n",
       "      <td>0.352099</td>\n",
       "      <td>...</td>\n",
       "      <td>0.353139</td>\n",
       "      <td>0.351328</td>\n",
       "      <td>0.350662</td>\n",
       "      <td>0.352151</td>\n",
       "      <td>0.352965</td>\n",
       "      <td>0.351328</td>\n",
       "      <td>0.347689</td>\n",
       "      <td>0.353419</td>\n",
       "      <td>0.223268</td>\n",
       "      <td>33.332945</td>\n",
       "    </tr>\n",
       "    <tr>\n",
       "      <th>min</th>\n",
       "      <td>0.000000</td>\n",
       "      <td>0.000000</td>\n",
       "      <td>0.000000</td>\n",
       "      <td>0.000000</td>\n",
       "      <td>0.000000</td>\n",
       "      <td>0.000000</td>\n",
       "      <td>0.000000</td>\n",
       "      <td>0.000000</td>\n",
       "      <td>0.000000</td>\n",
       "      <td>0.000000</td>\n",
       "      <td>...</td>\n",
       "      <td>0.000000</td>\n",
       "      <td>0.000000</td>\n",
       "      <td>0.000000</td>\n",
       "      <td>0.000000</td>\n",
       "      <td>0.000000</td>\n",
       "      <td>0.000000</td>\n",
       "      <td>0.000000</td>\n",
       "      <td>0.000000</td>\n",
       "      <td>0.000000</td>\n",
       "      <td>1.000000</td>\n",
       "    </tr>\n",
       "    <tr>\n",
       "      <th>25%</th>\n",
       "      <td>0.250000</td>\n",
       "      <td>0.250000</td>\n",
       "      <td>0.250000</td>\n",
       "      <td>0.250000</td>\n",
       "      <td>0.250000</td>\n",
       "      <td>0.250000</td>\n",
       "      <td>0.250000</td>\n",
       "      <td>0.250000</td>\n",
       "      <td>0.250000</td>\n",
       "      <td>0.250000</td>\n",
       "      <td>...</td>\n",
       "      <td>0.250000</td>\n",
       "      <td>0.250000</td>\n",
       "      <td>0.250000</td>\n",
       "      <td>0.250000</td>\n",
       "      <td>0.250000</td>\n",
       "      <td>0.250000</td>\n",
       "      <td>0.250000</td>\n",
       "      <td>0.250000</td>\n",
       "      <td>0.500000</td>\n",
       "      <td>37.000000</td>\n",
       "    </tr>\n",
       "    <tr>\n",
       "      <th>50%</th>\n",
       "      <td>0.500000</td>\n",
       "      <td>0.500000</td>\n",
       "      <td>0.500000</td>\n",
       "      <td>0.500000</td>\n",
       "      <td>0.500000</td>\n",
       "      <td>0.500000</td>\n",
       "      <td>0.500000</td>\n",
       "      <td>0.500000</td>\n",
       "      <td>0.500000</td>\n",
       "      <td>0.500000</td>\n",
       "      <td>...</td>\n",
       "      <td>0.500000</td>\n",
       "      <td>0.500000</td>\n",
       "      <td>0.500000</td>\n",
       "      <td>0.500000</td>\n",
       "      <td>0.500000</td>\n",
       "      <td>0.500000</td>\n",
       "      <td>0.500000</td>\n",
       "      <td>0.500000</td>\n",
       "      <td>0.500000</td>\n",
       "      <td>64.000000</td>\n",
       "    </tr>\n",
       "    <tr>\n",
       "      <th>75%</th>\n",
       "      <td>0.750000</td>\n",
       "      <td>0.750000</td>\n",
       "      <td>0.750000</td>\n",
       "      <td>0.750000</td>\n",
       "      <td>0.750000</td>\n",
       "      <td>0.750000</td>\n",
       "      <td>0.750000</td>\n",
       "      <td>0.750000</td>\n",
       "      <td>0.750000</td>\n",
       "      <td>0.750000</td>\n",
       "      <td>...</td>\n",
       "      <td>0.750000</td>\n",
       "      <td>0.750000</td>\n",
       "      <td>0.750000</td>\n",
       "      <td>0.750000</td>\n",
       "      <td>0.750000</td>\n",
       "      <td>0.750000</td>\n",
       "      <td>0.750000</td>\n",
       "      <td>0.750000</td>\n",
       "      <td>0.500000</td>\n",
       "      <td>93.000000</td>\n",
       "    </tr>\n",
       "    <tr>\n",
       "      <th>max</th>\n",
       "      <td>1.000000</td>\n",
       "      <td>1.000000</td>\n",
       "      <td>1.000000</td>\n",
       "      <td>1.000000</td>\n",
       "      <td>1.000000</td>\n",
       "      <td>1.000000</td>\n",
       "      <td>1.000000</td>\n",
       "      <td>1.000000</td>\n",
       "      <td>1.000000</td>\n",
       "      <td>1.000000</td>\n",
       "      <td>...</td>\n",
       "      <td>1.000000</td>\n",
       "      <td>1.000000</td>\n",
       "      <td>1.000000</td>\n",
       "      <td>1.000000</td>\n",
       "      <td>1.000000</td>\n",
       "      <td>1.000000</td>\n",
       "      <td>1.000000</td>\n",
       "      <td>1.000000</td>\n",
       "      <td>1.000000</td>\n",
       "      <td>120.000000</td>\n",
       "    </tr>\n",
       "  </tbody>\n",
       "</table>\n",
       "<p>8 rows × 312 columns</p>\n",
       "</div>"
      ],
      "text/plain": [
       "       feature_intelligence1  feature_intelligence2  feature_intelligence3  \\\n",
       "count          501808.000000          501808.000000          501808.000000   \n",
       "mean                0.499981               0.499979               0.499979   \n",
       "std                 0.353596               0.353593               0.353593   \n",
       "min                 0.000000               0.000000               0.000000   \n",
       "25%                 0.250000               0.250000               0.250000   \n",
       "50%                 0.500000               0.500000               0.500000   \n",
       "75%                 0.750000               0.750000               0.750000   \n",
       "max                 1.000000               1.000000               1.000000   \n",
       "\n",
       "       feature_intelligence4  feature_intelligence5  feature_intelligence6  \\\n",
       "count          501808.000000          501808.000000          501808.000000   \n",
       "mean                0.499981               0.499977               0.499977   \n",
       "std                 0.353596               0.353587               0.353587   \n",
       "min                 0.000000               0.000000               0.000000   \n",
       "25%                 0.250000               0.250000               0.250000   \n",
       "50%                 0.500000               0.500000               0.500000   \n",
       "75%                 0.750000               0.750000               0.750000   \n",
       "max                 1.000000               1.000000               1.000000   \n",
       "\n",
       "       feature_intelligence7  feature_intelligence8  feature_intelligence9  \\\n",
       "count          501808.000000          501808.000000          501808.000000   \n",
       "mean                0.499977               0.499981               0.499980   \n",
       "std                 0.353587               0.353596               0.352099   \n",
       "min                 0.000000               0.000000               0.000000   \n",
       "25%                 0.250000               0.250000               0.250000   \n",
       "50%                 0.500000               0.500000               0.500000   \n",
       "75%                 0.750000               0.750000               0.750000   \n",
       "max                 1.000000               1.000000               1.000000   \n",
       "\n",
       "       feature_intelligence10  ...  feature_wisdom39  feature_wisdom40  \\\n",
       "count           501808.000000  ...     501808.000000     501808.000000   \n",
       "mean                 0.499980  ...          0.499982          0.499974   \n",
       "std                  0.352099  ...          0.353139          0.351328   \n",
       "min                  0.000000  ...          0.000000          0.000000   \n",
       "25%                  0.250000  ...          0.250000          0.250000   \n",
       "50%                  0.500000  ...          0.500000          0.500000   \n",
       "75%                  0.750000  ...          0.750000          0.750000   \n",
       "max                  1.000000  ...          1.000000          1.000000   \n",
       "\n",
       "       feature_wisdom41  feature_wisdom42  feature_wisdom43  feature_wisdom44  \\\n",
       "count     501808.000000     501808.000000     501808.000000     501808.000000   \n",
       "mean           0.499980          0.499982          0.499980          0.499974   \n",
       "std            0.350662          0.352151          0.352965          0.351328   \n",
       "min            0.000000          0.000000          0.000000          0.000000   \n",
       "25%            0.250000          0.250000          0.250000          0.250000   \n",
       "50%            0.500000          0.500000          0.500000          0.500000   \n",
       "75%            0.750000          0.750000          0.750000          0.750000   \n",
       "max            1.000000          1.000000          1.000000          1.000000   \n",
       "\n",
       "       feature_wisdom45  feature_wisdom46         target          erano  \n",
       "count     501808.000000     501808.000000  501808.000000  501808.000000  \n",
       "mean           0.499979          0.499971       0.499997      64.001987  \n",
       "std            0.347689          0.353419       0.223268      33.332945  \n",
       "min            0.000000          0.000000       0.000000       1.000000  \n",
       "25%            0.250000          0.250000       0.500000      37.000000  \n",
       "50%            0.500000          0.500000       0.500000      64.000000  \n",
       "75%            0.750000          0.750000       0.500000      93.000000  \n",
       "max            1.000000          1.000000       1.000000     120.000000  \n",
       "\n",
       "[8 rows x 312 columns]"
      ]
     },
     "execution_count": 12,
     "metadata": {},
     "output_type": "execute_result"
    }
   ],
   "source": [
    "training_data.describe()"
   ]
  },
  {
   "cell_type": "code",
   "execution_count": 21,
   "metadata": {},
   "outputs": [
    {
     "data": {
      "text/plain": [
       "array([[<AxesSubplot:title={'center':'feature_intelligence10'}>]],\n",
       "      dtype=object)"
      ]
     },
     "execution_count": 21,
     "metadata": {},
     "output_type": "execute_result"
    },
    {
     "data": {
      "image/png": "[encoded data removed]",
      "text/plain": [
       "<Figure size 432x288 with 1 Axes>"
      ]
     },
     "metadata": {
      "needs_background": "light"
     },
     "output_type": "display_data"
    }
   ],
   "source": [
    "training_data[['feature_intelligence10']].hist()"
   ]
  },
  {
   "cell_type": "code",
   "execution_count": null,
   "metadata": {},
   "outputs": [],
   "source": []
  },
  {
   "cell_type": "code",
   "execution_count": null,
   "metadata": {},
   "outputs": [],
   "source": []
  },
  {
   "cell_type": "code",
   "execution_count": 52,
   "metadata": {},
   "outputs": [
    {
     "data": {
      "text/plain": [
       "LGBMRegressor(boosting_type='gbdt', class_weight=None, colsample_by_tree=0.1,\n",
       "              colsample_bytree=1.0, importance_type='split', learning_rate=0.01,\n",
       "              max_depth=-1, metric='None', min_child_samples=20,\n",
       "              min_child_weight=0.001, min_split_gain=0.0, n_estimators=100,\n",
       "              n_jobs=-1, num_leaves=31, objective='mse', random_state=None,\n",
       "              reg_alpha=0.0, reg_lambda=0.0, silent=True, subsample=1.0,\n",
       "              subsample_for_bin=200000, subsample_freq=0)"
      ]
     },
     "execution_count": 52,
     "metadata": {},
     "output_type": "execute_result"
    }
   ],
   "source": [
    "clf = lgb.LGBMRegressor(n_estimators = 100,  learning_rate = 0.01, colsample_by_tree = 0.1, objective='mse', metric='None')\n",
    "clf.fit(train_val_combined[features], train_val_combined[target])\n",
    "\n",
    "# , eval_set = [(X_test, Y_test)], eval_metric=correlation_score, early_stopping_rounds = 500, verbose=0"
   ]
  },
  {
   "cell_type": "code",
   "execution_count": 53,
   "metadata": {},
   "outputs": [],
   "source": [
    "train_val_combined[PREDICTION_NAME] = clf.predict(train_val_combined[features])"
   ]
  },
  {
   "cell_type": "code",
   "execution_count": 54,
   "metadata": {},
   "outputs": [
    {
     "name": "stdout",
     "output_type": "stream",
     "text": [
      "On training the correlation has mean 0.07731947357963585 and std 0.03475368861038863\n",
      "On training the average per-era payout is 0.07731947357963585\n"
     ]
    }
   ],
   "source": [
    "from dataframe_functions.scoring_functions import score, payout\n",
    "\n",
    "# Submissions are scored by spearman correlation\n",
    "def score(df):\n",
    "    # method=\"first\" breaks ties based on order in array\n",
    "    pct_ranks = df[PREDICTION_NAME].rank(pct=True, method=\"first\")\n",
    "    targets = df[TARGET_NAME]\n",
    "    return np.corrcoef(targets, pct_ranks)[0, 1]\n",
    "\n",
    "correlations = train_val_combined.groupby(\"erano\").apply(score)\n",
    "print(f\"On training the correlation has mean {correlations.mean()} and std {correlations.std()}\")\n",
    "print(f\"On training the average per-era payout is {payout(correlations).mean()}\")\n"
   ]
  },
  {
   "cell_type": "code",
   "execution_count": 60,
   "metadata": {},
   "outputs": [
    {
     "data": {
      "text/plain": [
       "<BarContainer object of 148 artists>"
      ]
     },
     "execution_count": 60,
     "metadata": {},
     "output_type": "execute_result"
    },
    {
     "data": {
      "image/png": "[encoded data removed]",
      "text/plain": [
       "<Figure size 1440x360 with 1 Axes>"
      ]
     },
     "metadata": {
      "needs_background": "light"
     },
     "output_type": "display_data"
    }
   ],
   "source": [
    "plt.figure(figsize=(20,5))\n",
    "correlations = correlations.sort_values()\n",
    "plt.bar(correlations.index, correlations.values)"
   ]
  },
  {
   "cell_type": "code",
   "execution_count": null,
   "metadata": {},
   "outputs": [],
   "source": []
  },
  {
   "cell_type": "code",
   "execution_count": 99,
   "metadata": {},
   "outputs": [],
   "source": [
    "era1 = train_val_combined[train_val_combined.erano <= 50].reset_index(drop=True)"
   ]
  },
  {
   "cell_type": "code",
   "execution_count": 100,
   "metadata": {},
   "outputs": [],
   "source": [
    "X_train, X_test, y_train, y_test = train_test_split(era1[features], era1[target], test_size=0.5, random_state=42)"
   ]
  },
  {
   "cell_type": "code",
   "execution_count": null,
   "metadata": {},
   "outputs": [],
   "source": []
  },
  {
   "cell_type": "code",
   "execution_count": 101,
   "metadata": {},
   "outputs": [
    {
     "name": "stdout",
     "output_type": "stream",
     "text": [
      "0.16502369513523743\n"
     ]
    }
   ],
   "source": [
    "clf = lgb.LGBMRegressor(n_estimators = 200,  learning_rate = 0.01, colsample_by_tree = 0.1, objective='mse', metric='None')\n",
    "clf.fit(era1[features], era1[target])\n",
    "era1[PREDICTION_NAME] = clf.predict(era1[features])\n",
    "correlations = era1.groupby(\"erano\").apply(score)\n",
    "print(correlations.mean())"
   ]
  },
  {
   "cell_type": "code",
   "execution_count": 102,
   "metadata": {},
   "outputs": [
    {
     "name": "stdout",
     "output_type": "stream",
     "text": [
      "0.14681072477311852\n"
     ]
    }
   ],
   "source": [
    "clf = lgb.LGBMRegressor(n_estimators = 200,  learning_rate = 0.01, colsample_by_tree = 0.1, objective='mse', metric='None')\n",
    "clf.fit(X_train, y_train)\n",
    "era1[PREDICTION_NAME] = clf.predict(era1[features])\n",
    "correlations = era1.groupby(\"erano\").apply(score)\n",
    "print(correlations.mean())"
   ]
  },
  {
   "cell_type": "code",
   "execution_count": 103,
   "metadata": {},
   "outputs": [
    {
     "name": "stdout",
     "output_type": "stream",
     "text": [
      "0.14665356828914639\n"
     ]
    }
   ],
   "source": [
    "clf = lgb.LGBMRegressor(n_estimators = 200,  learning_rate = 0.01, colsample_by_tree = 0.1, objective='mse', metric='None')\n",
    "clf.fit(X_test, y_test)\n",
    "era1[PREDICTION_NAME] = clf.predict(era1[features])\n",
    "correlations = era1.groupby(\"erano\").apply(score)\n",
    "print(correlations.mean())"
   ]
  },
  {
   "cell_type": "code",
   "execution_count": null,
   "metadata": {},
   "outputs": [],
   "source": []
  },
  {
   "cell_type": "code",
   "execution_count": null,
   "metadata": {},
   "outputs": [],
   "source": []
  },
  {
   "cell_type": "code",
   "execution_count": null,
   "metadata": {},
   "outputs": [],
   "source": []
  },
  {
   "cell_type": "code",
   "execution_count": null,
   "metadata": {},
   "outputs": [],
   "source": []
  },
  {
   "cell_type": "code",
   "execution_count": null,
   "metadata": {},
   "outputs": [],
   "source": [
    "\n",
    "def hyperopt_train_test(params):\n",
    "    \n",
    "    clf = lgb.LGBMRegressor(**params, objective='mse', metric='None')   \n",
    "    clf.fit(X_train[features], np.ravel(Y_train), eval_set = [(X_test, Y_test)], eval_metric=correlation_score, early_stopping_rounds = 500, verbose=0)\n",
    "    preds = clf.predict(X_test[features])\n",
    "    act = Y_test\n",
    "    spear_corr = stats.spearmanr(act, preds)[0]\n",
    "    \n",
    "    loss = -1.0*spear_corr\n",
    "    \n",
    "    return loss\n",
    "\n",
    "space = {'n_estimators': hp.choice('n_estimators', range(50,10000)),\n",
    "          'max_depth': hp.choice('max_depth', range(1,10)),\n",
    "          'colsample_bytree':hp.quniform('colsample_bytree', 0.005, 0.5, 0.005),\n",
    "          'learning_rate': hp.quniform('learning_rate', 0.005, 0.5, 0.005),\n",
    "          'subsample': hp.quniform('subsample', 0.05, 0.95, 0.01)}\n",
    "\n",
    "def f(params):\n",
    "    loss = hyperopt_train_test(params)\n",
    "    return {'loss': loss, 'status': STATUS_OK}\n",
    "\n",
    "trials = Trials()"
   ]
  },
  {
   "cell_type": "code",
   "execution_count": null,
   "metadata": {},
   "outputs": [],
   "source": []
  },
  {
   "cell_type": "code",
   "execution_count": null,
   "metadata": {},
   "outputs": [],
   "source": []
  }
 ],
 "metadata": {
  "kernelspec": {
   "display_name": "Python 3",
   "language": "python",
   "name": "python3"
  },
  "language_info": {
   "codemirror_mode": {
    "name": "ipython",
    "version": 3
   },
   "file_extension": ".py",
   "mimetype": "text/x-python",
   "name": "python",
   "nbconvert_exporter": "python",
   "pygments_lexer": "ipython3",
   "version": "3.7.6"
  }
 },
 "nbformat": 4,
 "nbformat_minor": 4
}
