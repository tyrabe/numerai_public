{
 "cells": [
  {
   "cell_type": "code",
   "execution_count": 1,
   "metadata": {},
   "outputs": [
    {
     "data": {
      "text/html": [
       "<style>.container { width:100% !important; }</style>"
      ],
      "text/plain": [
       "<IPython.core.display.HTML object>"
      ]
     },
     "metadata": {},
     "output_type": "display_data"
    }
   ],
   "source": [
    "import pandas as pd\n",
    "import matplotlib.pyplot as plt \n",
    "import numpy as np\n",
    "import datetime\n",
    "import numerapi\n",
    "\n",
    "from sklearn.model_selection import KFold, cross_val_score, cross_validate\n",
    "from sklearn import linear_model\n",
    "from sklearn import metrics\n",
    "from sklearn.model_selection import train_test_split\n",
    "from sklearn.preprocessing import MinMaxScaler\n",
    "\n",
    "from hyperopt import fmin, tpe, hp, STATUS_OK, Trials\n",
    "\n",
    "import scipy\n",
    "import numpy\n",
    "from scipy import stats\n",
    "\n",
    "import lightgbm as lgb\n",
    "\n",
    "import sys\n",
    "sys.path.append(\"C:/Users/tyrab/tyler_python/numerai_public/\")\n",
    "\n",
    "from dataframe_functions.scoring_functions import score, payout\n",
    "\n",
    "from IPython.core.display import display, HTML\n",
    "display(HTML(\"<style>.container { width:100% !important; }</style>\"))"
   ]
  },
  {
   "cell_type": "markdown",
   "metadata": {},
   "source": [
    "# Quick Points on Numerai Data Science Tournament\n",
    "-Your model predictions will be scored on the spearman correlation between against the actual targets"
   ]
  },
  {
   "cell_type": "markdown",
   "metadata": {},
   "source": [
    "# Download Data via Numerapi"
   ]
  },
  {
   "cell_type": "code",
   "execution_count": 2,
   "metadata": {},
   "outputs": [],
   "source": [
    "# some API calls do not require logging in\n",
    "napi = numerapi.NumerAPI(verbosity=\"info\")"
   ]
  },
  {
   "cell_type": "code",
   "execution_count": 3,
   "metadata": {},
   "outputs": [],
   "source": [
    "# !pip install --user --upgrade  pyOpenSSL "
   ]
  },
  {
   "cell_type": "code",
   "execution_count": 4,
   "metadata": {},
   "outputs": [
    {
     "name": "stderr",
     "output_type": "stream",
     "text": [
      "2022-05-01 15:26:27,077 INFO numerapi.base_api: getting rounds...\n",
      "C:\\Users\\tyrab\\AppData\\Roaming\\Python\\Python37\\site-packages\\cryptography\\hazmat\\backends\\openssl\\x509.py:17: CryptographyDeprecationWarning: This version of cryptography contains a temporary pyOpenSSL fallback path. Upgrade pyOpenSSL now.\n",
      "  utils.DeprecatedIn35,\n"
     ]
    },
    {
     "name": "stdout",
     "output_type": "stream",
     "text": [
      "no new round within the last 24 hours\n"
     ]
    }
   ],
   "source": [
    "# get competitions\n",
    "all_competitions = napi.get_competitions()\n",
    "# get leaderboard for the current round\n",
    "leaderboard = napi.get_leaderboard()\n",
    "# check if a new round has started\n",
    "if napi.check_new_round():\n",
    "    print(\"new round has started wihtin the last 24hours!\")\n",
    "else:\n",
    "    print(\"no new round within the last 24 hours\")"
   ]
  },
  {
   "cell_type": "code",
   "execution_count": 5,
   "metadata": {},
   "outputs": [
    {
     "name": "stderr",
     "output_type": "stream",
     "text": [
      "2022-05-01 15:26:28,757 INFO numerapi.utils: starting download\n",
      ".\\numerai_dataset_314.zip: 100%|███████████████████████████████████████████████████▉| 454M/454M [00:46<00:00, 8.79MB/s]2022-05-01 15:27:15,271 INFO numerapi.base_api: unzipping file...\n",
      ".\\numerai_dataset_314.zip: 454MB [01:00, 8.79MB/s]                                                                     "
     ]
    },
    {
     "data": {
      "text/plain": [
       "'.\\\\numerai_dataset_314.zip'"
      ]
     },
     "execution_count": 5,
     "metadata": {},
     "output_type": "execute_result"
    }
   ],
   "source": [
    "# download current dataset\n",
    "napi.download_current_dataset(unzip=True)"
   ]
  },
  {
   "cell_type": "code",
   "execution_count": 6,
   "metadata": {},
   "outputs": [],
   "source": [
    "tournament_number = napi.get_current_round()\n",
    "TOURNAMENT_NAME = \"nomi\"\n",
    "TARGET_NAME = \"target\"\n",
    "PREDICTION_NAME = \"prediction\""
   ]
  },
  {
   "cell_type": "code",
   "execution_count": 7,
   "metadata": {},
   "outputs": [],
   "source": [
    "training_data = pd.read_csv(\"./numerai_dataset_\"+str(tournament_number)+\"/numerai_training_data.csv\")\n",
    "tournament_data = pd.read_csv(\"./numerai_dataset_\"+str(tournament_number)+\"/numerai_tournament_data.csv\")"
   ]
  },
  {
   "cell_type": "code",
   "execution_count": 8,
   "metadata": {},
   "outputs": [],
   "source": [
    "training_data['erano'] = training_data.era.str.strip('era').astype('int')\n",
    "\n",
    "validation_data = tournament_data[tournament_data.data_type == 'validation'].reset_index(drop=True)\n",
    "validation_data['erano'] = validation_data.era.str.strip('era').astype('int')"
   ]
  },
  {
   "cell_type": "markdown",
   "metadata": {},
   "source": [
    "## Target is linear and looks somewhat discrete normally distributed"
   ]
  },
  {
   "cell_type": "code",
   "execution_count": 295,
   "metadata": {},
   "outputs": [
    {
     "data": {
      "text/plain": [
       "<AxesSubplot:>"
      ]
     },
     "execution_count": 295,
     "metadata": {},
     "output_type": "execute_result"
    },
    {
     "data": {
      "image/png": "[encoded data removed]",
      "text/plain": [
       "<Figure size 432x288 with 1 Axes>"
      ]
     },
     "metadata": {
      "needs_background": "light"
     },
     "output_type": "display_data"
    }
   ],
   "source": [
    "training_data.target.hist()"
   ]
  },
  {
   "cell_type": "markdown",
   "metadata": {},
   "source": [
    "## Features are discrete and look almost uniform except for 0.5"
   ]
  },
  {
   "cell_type": "code",
   "execution_count": 296,
   "metadata": {},
   "outputs": [
    {
     "data": {
      "text/plain": [
       "<AxesSubplot:>"
      ]
     },
     "execution_count": 296,
     "metadata": {},
     "output_type": "execute_result"
    },
    {
     "data": {
      "image/png": "[encoded data removed]",
      "text/plain": [
       "<Figure size 432x288 with 1 Axes>"
      ]
     },
     "metadata": {
      "needs_background": "light"
     },
     "output_type": "display_data"
    }
   ],
   "source": [
    "training_data.feature_constitution85.hist()"
   ]
  },
  {
   "cell_type": "markdown",
   "metadata": {},
   "source": [
    "## Data is cleaned and standardized already - this was to hide the features being used from the modelers (stock market data)"
   ]
  },
  {
   "cell_type": "code",
   "execution_count": 367,
   "metadata": {},
   "outputs": [
    {
     "data": {
      "text/html": [
       "<div>\n",
       "<style scoped>\n",
       "    .dataframe tbody tr th:only-of-type {\n",
       "        vertical-align: middle;\n",
       "    }\n",
       "\n",
       "    .dataframe tbody tr th {\n",
       "        vertical-align: top;\n",
       "    }\n",
       "\n",
       "    .dataframe thead th {\n",
       "        text-align: right;\n",
       "    }\n",
       "</style>\n",
       "<table border=\"1\" class=\"dataframe\">\n",
       "  <thead>\n",
       "    <tr style=\"text-align: right;\">\n",
       "      <th></th>\n",
       "      <th>feature_intelligence1</th>\n",
       "      <th>feature_intelligence2</th>\n",
       "      <th>feature_intelligence3</th>\n",
       "      <th>feature_intelligence4</th>\n",
       "      <th>feature_intelligence5</th>\n",
       "      <th>feature_intelligence6</th>\n",
       "      <th>feature_intelligence7</th>\n",
       "      <th>feature_intelligence8</th>\n",
       "      <th>feature_intelligence9</th>\n",
       "      <th>feature_intelligence10</th>\n",
       "      <th>...</th>\n",
       "      <th>feature_wisdom40</th>\n",
       "      <th>feature_wisdom41</th>\n",
       "      <th>feature_wisdom42</th>\n",
       "      <th>feature_wisdom43</th>\n",
       "      <th>feature_wisdom44</th>\n",
       "      <th>feature_wisdom45</th>\n",
       "      <th>feature_wisdom46</th>\n",
       "      <th>target</th>\n",
       "      <th>erano</th>\n",
       "      <th>prediction</th>\n",
       "    </tr>\n",
       "  </thead>\n",
       "  <tbody>\n",
       "    <tr>\n",
       "      <th>count</th>\n",
       "      <td>501808.000000</td>\n",
       "      <td>501808.000000</td>\n",
       "      <td>501808.000000</td>\n",
       "      <td>501808.000000</td>\n",
       "      <td>501808.000000</td>\n",
       "      <td>501808.000000</td>\n",
       "      <td>501808.000000</td>\n",
       "      <td>501808.000000</td>\n",
       "      <td>501808.000000</td>\n",
       "      <td>501808.000000</td>\n",
       "      <td>...</td>\n",
       "      <td>501808.000000</td>\n",
       "      <td>501808.000000</td>\n",
       "      <td>501808.000000</td>\n",
       "      <td>501808.000000</td>\n",
       "      <td>501808.000000</td>\n",
       "      <td>501808.000000</td>\n",
       "      <td>501808.000000</td>\n",
       "      <td>501808.000000</td>\n",
       "      <td>501808.000000</td>\n",
       "      <td>501808.000000</td>\n",
       "    </tr>\n",
       "    <tr>\n",
       "      <th>mean</th>\n",
       "      <td>0.499981</td>\n",
       "      <td>0.499979</td>\n",
       "      <td>0.499979</td>\n",
       "      <td>0.499981</td>\n",
       "      <td>0.499977</td>\n",
       "      <td>0.499977</td>\n",
       "      <td>0.499977</td>\n",
       "      <td>0.499981</td>\n",
       "      <td>0.499980</td>\n",
       "      <td>0.499980</td>\n",
       "      <td>...</td>\n",
       "      <td>0.499974</td>\n",
       "      <td>0.499980</td>\n",
       "      <td>0.499982</td>\n",
       "      <td>0.499980</td>\n",
       "      <td>0.499974</td>\n",
       "      <td>0.499979</td>\n",
       "      <td>0.499971</td>\n",
       "      <td>0.499997</td>\n",
       "      <td>64.001987</td>\n",
       "      <td>0.499997</td>\n",
       "    </tr>\n",
       "    <tr>\n",
       "      <th>std</th>\n",
       "      <td>0.353596</td>\n",
       "      <td>0.353593</td>\n",
       "      <td>0.353593</td>\n",
       "      <td>0.353596</td>\n",
       "      <td>0.353587</td>\n",
       "      <td>0.353587</td>\n",
       "      <td>0.353587</td>\n",
       "      <td>0.353596</td>\n",
       "      <td>0.352099</td>\n",
       "      <td>0.352099</td>\n",
       "      <td>...</td>\n",
       "      <td>0.351328</td>\n",
       "      <td>0.350662</td>\n",
       "      <td>0.352151</td>\n",
       "      <td>0.352965</td>\n",
       "      <td>0.351328</td>\n",
       "      <td>0.347689</td>\n",
       "      <td>0.353419</td>\n",
       "      <td>0.223268</td>\n",
       "      <td>33.332945</td>\n",
       "      <td>0.004407</td>\n",
       "    </tr>\n",
       "    <tr>\n",
       "      <th>min</th>\n",
       "      <td>0.000000</td>\n",
       "      <td>0.000000</td>\n",
       "      <td>0.000000</td>\n",
       "      <td>0.000000</td>\n",
       "      <td>0.000000</td>\n",
       "      <td>0.000000</td>\n",
       "      <td>0.000000</td>\n",
       "      <td>0.000000</td>\n",
       "      <td>0.000000</td>\n",
       "      <td>0.000000</td>\n",
       "      <td>...</td>\n",
       "      <td>0.000000</td>\n",
       "      <td>0.000000</td>\n",
       "      <td>0.000000</td>\n",
       "      <td>0.000000</td>\n",
       "      <td>0.000000</td>\n",
       "      <td>0.000000</td>\n",
       "      <td>0.000000</td>\n",
       "      <td>0.000000</td>\n",
       "      <td>1.000000</td>\n",
       "      <td>0.481041</td>\n",
       "    </tr>\n",
       "    <tr>\n",
       "      <th>25%</th>\n",
       "      <td>0.250000</td>\n",
       "      <td>0.250000</td>\n",
       "      <td>0.250000</td>\n",
       "      <td>0.250000</td>\n",
       "      <td>0.250000</td>\n",
       "      <td>0.250000</td>\n",
       "      <td>0.250000</td>\n",
       "      <td>0.250000</td>\n",
       "      <td>0.250000</td>\n",
       "      <td>0.250000</td>\n",
       "      <td>...</td>\n",
       "      <td>0.250000</td>\n",
       "      <td>0.250000</td>\n",
       "      <td>0.250000</td>\n",
       "      <td>0.250000</td>\n",
       "      <td>0.250000</td>\n",
       "      <td>0.250000</td>\n",
       "      <td>0.250000</td>\n",
       "      <td>0.500000</td>\n",
       "      <td>37.000000</td>\n",
       "      <td>0.496958</td>\n",
       "    </tr>\n",
       "    <tr>\n",
       "      <th>50%</th>\n",
       "      <td>0.500000</td>\n",
       "      <td>0.500000</td>\n",
       "      <td>0.500000</td>\n",
       "      <td>0.500000</td>\n",
       "      <td>0.500000</td>\n",
       "      <td>0.500000</td>\n",
       "      <td>0.500000</td>\n",
       "      <td>0.500000</td>\n",
       "      <td>0.500000</td>\n",
       "      <td>0.500000</td>\n",
       "      <td>...</td>\n",
       "      <td>0.500000</td>\n",
       "      <td>0.500000</td>\n",
       "      <td>0.500000</td>\n",
       "      <td>0.500000</td>\n",
       "      <td>0.500000</td>\n",
       "      <td>0.500000</td>\n",
       "      <td>0.500000</td>\n",
       "      <td>0.500000</td>\n",
       "      <td>64.000000</td>\n",
       "      <td>0.500003</td>\n",
       "    </tr>\n",
       "    <tr>\n",
       "      <th>75%</th>\n",
       "      <td>0.750000</td>\n",
       "      <td>0.750000</td>\n",
       "      <td>0.750000</td>\n",
       "      <td>0.750000</td>\n",
       "      <td>0.750000</td>\n",
       "      <td>0.750000</td>\n",
       "      <td>0.750000</td>\n",
       "      <td>0.750000</td>\n",
       "      <td>0.750000</td>\n",
       "      <td>0.750000</td>\n",
       "      <td>...</td>\n",
       "      <td>0.750000</td>\n",
       "      <td>0.750000</td>\n",
       "      <td>0.750000</td>\n",
       "      <td>0.750000</td>\n",
       "      <td>0.750000</td>\n",
       "      <td>0.750000</td>\n",
       "      <td>0.750000</td>\n",
       "      <td>0.500000</td>\n",
       "      <td>93.000000</td>\n",
       "      <td>0.503041</td>\n",
       "    </tr>\n",
       "    <tr>\n",
       "      <th>max</th>\n",
       "      <td>1.000000</td>\n",
       "      <td>1.000000</td>\n",
       "      <td>1.000000</td>\n",
       "      <td>1.000000</td>\n",
       "      <td>1.000000</td>\n",
       "      <td>1.000000</td>\n",
       "      <td>1.000000</td>\n",
       "      <td>1.000000</td>\n",
       "      <td>1.000000</td>\n",
       "      <td>1.000000</td>\n",
       "      <td>...</td>\n",
       "      <td>1.000000</td>\n",
       "      <td>1.000000</td>\n",
       "      <td>1.000000</td>\n",
       "      <td>1.000000</td>\n",
       "      <td>1.000000</td>\n",
       "      <td>1.000000</td>\n",
       "      <td>1.000000</td>\n",
       "      <td>1.000000</td>\n",
       "      <td>120.000000</td>\n",
       "      <td>0.517336</td>\n",
       "    </tr>\n",
       "  </tbody>\n",
       "</table>\n",
       "<p>8 rows × 313 columns</p>\n",
       "</div>"
      ],
      "text/plain": [
       "       feature_intelligence1  feature_intelligence2  feature_intelligence3  \\\n",
       "count          501808.000000          501808.000000          501808.000000   \n",
       "mean                0.499981               0.499979               0.499979   \n",
       "std                 0.353596               0.353593               0.353593   \n",
       "min                 0.000000               0.000000               0.000000   \n",
       "25%                 0.250000               0.250000               0.250000   \n",
       "50%                 0.500000               0.500000               0.500000   \n",
       "75%                 0.750000               0.750000               0.750000   \n",
       "max                 1.000000               1.000000               1.000000   \n",
       "\n",
       "       feature_intelligence4  feature_intelligence5  feature_intelligence6  \\\n",
       "count          501808.000000          501808.000000          501808.000000   \n",
       "mean                0.499981               0.499977               0.499977   \n",
       "std                 0.353596               0.353587               0.353587   \n",
       "min                 0.000000               0.000000               0.000000   \n",
       "25%                 0.250000               0.250000               0.250000   \n",
       "50%                 0.500000               0.500000               0.500000   \n",
       "75%                 0.750000               0.750000               0.750000   \n",
       "max                 1.000000               1.000000               1.000000   \n",
       "\n",
       "       feature_intelligence7  feature_intelligence8  feature_intelligence9  \\\n",
       "count          501808.000000          501808.000000          501808.000000   \n",
       "mean                0.499977               0.499981               0.499980   \n",
       "std                 0.353587               0.353596               0.352099   \n",
       "min                 0.000000               0.000000               0.000000   \n",
       "25%                 0.250000               0.250000               0.250000   \n",
       "50%                 0.500000               0.500000               0.500000   \n",
       "75%                 0.750000               0.750000               0.750000   \n",
       "max                 1.000000               1.000000               1.000000   \n",
       "\n",
       "       feature_intelligence10  ...  feature_wisdom40  feature_wisdom41  \\\n",
       "count           501808.000000  ...     501808.000000     501808.000000   \n",
       "mean                 0.499980  ...          0.499974          0.499980   \n",
       "std                  0.352099  ...          0.351328          0.350662   \n",
       "min                  0.000000  ...          0.000000          0.000000   \n",
       "25%                  0.250000  ...          0.250000          0.250000   \n",
       "50%                  0.500000  ...          0.500000          0.500000   \n",
       "75%                  0.750000  ...          0.750000          0.750000   \n",
       "max                  1.000000  ...          1.000000          1.000000   \n",
       "\n",
       "       feature_wisdom42  feature_wisdom43  feature_wisdom44  feature_wisdom45  \\\n",
       "count     501808.000000     501808.000000     501808.000000     501808.000000   \n",
       "mean           0.499982          0.499980          0.499974          0.499979   \n",
       "std            0.352151          0.352965          0.351328          0.347689   \n",
       "min            0.000000          0.000000          0.000000          0.000000   \n",
       "25%            0.250000          0.250000          0.250000          0.250000   \n",
       "50%            0.500000          0.500000          0.500000          0.500000   \n",
       "75%            0.750000          0.750000          0.750000          0.750000   \n",
       "max            1.000000          1.000000          1.000000          1.000000   \n",
       "\n",
       "       feature_wisdom46         target          erano     prediction  \n",
       "count     501808.000000  501808.000000  501808.000000  501808.000000  \n",
       "mean           0.499971       0.499997      64.001987       0.499997  \n",
       "std            0.353419       0.223268      33.332945       0.004407  \n",
       "min            0.000000       0.000000       1.000000       0.481041  \n",
       "25%            0.250000       0.500000      37.000000       0.496958  \n",
       "50%            0.500000       0.500000      64.000000       0.500003  \n",
       "75%            0.750000       0.500000      93.000000       0.503041  \n",
       "max            1.000000       1.000000     120.000000       0.517336  \n",
       "\n",
       "[8 rows x 313 columns]"
      ]
     },
     "execution_count": 367,
     "metadata": {},
     "output_type": "execute_result"
    }
   ],
   "source": [
    "training_data.describe()"
   ]
  },
  {
   "cell_type": "markdown",
   "metadata": {},
   "source": [
    "## Each erano represents a non-overlapping time period - check obs count"
   ]
  },
  {
   "cell_type": "code",
   "execution_count": 13,
   "metadata": {},
   "outputs": [],
   "source": [
    "train_val_combined = training_data.append(validation_data)"
   ]
  },
  {
   "cell_type": "code",
   "execution_count": 14,
   "metadata": {},
   "outputs": [
    {
     "data": {
      "text/plain": [
       "<BarContainer object of 148 artists>"
      ]
     },
     "execution_count": 14,
     "metadata": {},
     "output_type": "execute_result"
    },
    {
     "data": {
      "image/png": "[encoded data removed]",
      "text/plain": [
       "<Figure size 432x288 with 1 Axes>"
      ]
     },
     "metadata": {
      "needs_background": "light"
     },
     "output_type": "display_data"
    }
   ],
   "source": [
    "obs_count = train_val_combined.groupby('erano').target.count()\n",
    "plt.bar(obs_count.index, obs_count.values)"
   ]
  },
  {
   "cell_type": "markdown",
   "metadata": {},
   "source": [
    "# Lets Take a Closer Look at the Features and correlation with the target"
   ]
  },
  {
   "cell_type": "code",
   "execution_count": 15,
   "metadata": {},
   "outputs": [],
   "source": [
    "features = [f for f in train_val_combined.columns if 'feature' in f]"
   ]
  },
  {
   "cell_type": "code",
   "execution_count": 300,
   "metadata": {},
   "outputs": [],
   "source": [
    "corrs_by_era = train_val_combined.groupby(['data_type', 'erano']).corr(method='spearman')"
   ]
  },
  {
   "cell_type": "code",
   "execution_count": 301,
   "metadata": {},
   "outputs": [
    {
     "data": {
      "text/html": [
       "<div>\n",
       "<style scoped>\n",
       "    .dataframe tbody tr th:only-of-type {\n",
       "        vertical-align: middle;\n",
       "    }\n",
       "\n",
       "    .dataframe tbody tr th {\n",
       "        vertical-align: top;\n",
       "    }\n",
       "\n",
       "    .dataframe thead th {\n",
       "        text-align: right;\n",
       "    }\n",
       "</style>\n",
       "<table border=\"1\" class=\"dataframe\">\n",
       "  <thead>\n",
       "    <tr style=\"text-align: right;\">\n",
       "      <th></th>\n",
       "      <th></th>\n",
       "      <th></th>\n",
       "      <th>feature_intelligence1</th>\n",
       "      <th>feature_intelligence2</th>\n",
       "      <th>feature_intelligence3</th>\n",
       "      <th>feature_intelligence4</th>\n",
       "      <th>feature_intelligence5</th>\n",
       "      <th>feature_intelligence6</th>\n",
       "      <th>feature_intelligence7</th>\n",
       "      <th>feature_intelligence8</th>\n",
       "      <th>feature_intelligence9</th>\n",
       "      <th>feature_intelligence10</th>\n",
       "      <th>...</th>\n",
       "      <th>feature_wisdom38</th>\n",
       "      <th>feature_wisdom39</th>\n",
       "      <th>feature_wisdom40</th>\n",
       "      <th>feature_wisdom41</th>\n",
       "      <th>feature_wisdom42</th>\n",
       "      <th>feature_wisdom43</th>\n",
       "      <th>feature_wisdom44</th>\n",
       "      <th>feature_wisdom45</th>\n",
       "      <th>feature_wisdom46</th>\n",
       "      <th>target</th>\n",
       "    </tr>\n",
       "    <tr>\n",
       "      <th>data_type</th>\n",
       "      <th>erano</th>\n",
       "      <th></th>\n",
       "      <th></th>\n",
       "      <th></th>\n",
       "      <th></th>\n",
       "      <th></th>\n",
       "      <th></th>\n",
       "      <th></th>\n",
       "      <th></th>\n",
       "      <th></th>\n",
       "      <th></th>\n",
       "      <th></th>\n",
       "      <th></th>\n",
       "      <th></th>\n",
       "      <th></th>\n",
       "      <th></th>\n",
       "      <th></th>\n",
       "      <th></th>\n",
       "      <th></th>\n",
       "      <th></th>\n",
       "      <th></th>\n",
       "      <th></th>\n",
       "      <th></th>\n",
       "    </tr>\n",
       "  </thead>\n",
       "  <tbody>\n",
       "    <tr>\n",
       "      <th rowspan=\"5\" valign=\"top\">train</th>\n",
       "      <th rowspan=\"5\" valign=\"top\">1</th>\n",
       "      <th>feature_intelligence1</th>\n",
       "      <td>1.000000</td>\n",
       "      <td>-0.183064</td>\n",
       "      <td>-0.215442</td>\n",
       "      <td>0.605645</td>\n",
       "      <td>-0.030718</td>\n",
       "      <td>0.163346</td>\n",
       "      <td>0.212536</td>\n",
       "      <td>0.678290</td>\n",
       "      <td>-0.391481</td>\n",
       "      <td>-0.381906</td>\n",
       "      <td>...</td>\n",
       "      <td>-0.079037</td>\n",
       "      <td>-0.081100</td>\n",
       "      <td>-0.122179</td>\n",
       "      <td>-0.131568</td>\n",
       "      <td>0.004498</td>\n",
       "      <td>0.158217</td>\n",
       "      <td>-0.144328</td>\n",
       "      <td>-0.111529</td>\n",
       "      <td>-0.208354</td>\n",
       "      <td>-0.018972</td>\n",
       "    </tr>\n",
       "    <tr>\n",
       "      <th>feature_intelligence2</th>\n",
       "      <td>-0.183064</td>\n",
       "      <td>1.000000</td>\n",
       "      <td>0.915525</td>\n",
       "      <td>-0.265463</td>\n",
       "      <td>0.202574</td>\n",
       "      <td>-0.103570</td>\n",
       "      <td>-0.074097</td>\n",
       "      <td>-0.211914</td>\n",
       "      <td>0.491987</td>\n",
       "      <td>0.462686</td>\n",
       "      <td>...</td>\n",
       "      <td>-0.134916</td>\n",
       "      <td>-0.150436</td>\n",
       "      <td>0.043079</td>\n",
       "      <td>-0.061866</td>\n",
       "      <td>-0.222708</td>\n",
       "      <td>-0.277809</td>\n",
       "      <td>0.017897</td>\n",
       "      <td>-0.026170</td>\n",
       "      <td>-0.080134</td>\n",
       "      <td>0.026221</td>\n",
       "    </tr>\n",
       "    <tr>\n",
       "      <th>feature_intelligence3</th>\n",
       "      <td>-0.215442</td>\n",
       "      <td>0.915525</td>\n",
       "      <td>1.000000</td>\n",
       "      <td>-0.275010</td>\n",
       "      <td>0.181403</td>\n",
       "      <td>-0.094645</td>\n",
       "      <td>-0.089664</td>\n",
       "      <td>-0.221876</td>\n",
       "      <td>0.474907</td>\n",
       "      <td>0.465162</td>\n",
       "      <td>...</td>\n",
       "      <td>-0.135161</td>\n",
       "      <td>-0.158216</td>\n",
       "      <td>0.045739</td>\n",
       "      <td>-0.056370</td>\n",
       "      <td>-0.236134</td>\n",
       "      <td>-0.299822</td>\n",
       "      <td>0.015951</td>\n",
       "      <td>-0.003847</td>\n",
       "      <td>-0.069978</td>\n",
       "      <td>0.033954</td>\n",
       "    </tr>\n",
       "    <tr>\n",
       "      <th>feature_intelligence4</th>\n",
       "      <td>0.605645</td>\n",
       "      <td>-0.265463</td>\n",
       "      <td>-0.275010</td>\n",
       "      <td>1.000000</td>\n",
       "      <td>-0.021586</td>\n",
       "      <td>0.075758</td>\n",
       "      <td>0.102740</td>\n",
       "      <td>0.845787</td>\n",
       "      <td>-0.396227</td>\n",
       "      <td>-0.528982</td>\n",
       "      <td>...</td>\n",
       "      <td>-0.101663</td>\n",
       "      <td>-0.237656</td>\n",
       "      <td>-0.111281</td>\n",
       "      <td>-0.097346</td>\n",
       "      <td>-0.105286</td>\n",
       "      <td>0.086833</td>\n",
       "      <td>-0.138672</td>\n",
       "      <td>-0.096882</td>\n",
       "      <td>-0.327356</td>\n",
       "      <td>-0.015093</td>\n",
       "    </tr>\n",
       "    <tr>\n",
       "      <th>feature_intelligence5</th>\n",
       "      <td>-0.030718</td>\n",
       "      <td>0.202574</td>\n",
       "      <td>0.181403</td>\n",
       "      <td>-0.021586</td>\n",
       "      <td>1.000000</td>\n",
       "      <td>-0.010793</td>\n",
       "      <td>-0.041719</td>\n",
       "      <td>-0.021586</td>\n",
       "      <td>0.107444</td>\n",
       "      <td>0.113888</td>\n",
       "      <td>...</td>\n",
       "      <td>-0.134063</td>\n",
       "      <td>-0.117196</td>\n",
       "      <td>-0.020550</td>\n",
       "      <td>-0.026543</td>\n",
       "      <td>-0.115661</td>\n",
       "      <td>-0.067193</td>\n",
       "      <td>-0.023926</td>\n",
       "      <td>-0.121366</td>\n",
       "      <td>-0.100877</td>\n",
       "      <td>0.026239</td>\n",
       "    </tr>\n",
       "  </tbody>\n",
       "</table>\n",
       "<p>5 rows × 311 columns</p>\n",
       "</div>"
      ],
      "text/plain": [
       "                                       feature_intelligence1  \\\n",
       "data_type erano                                                \n",
       "train     1     feature_intelligence1               1.000000   \n",
       "                feature_intelligence2              -0.183064   \n",
       "                feature_intelligence3              -0.215442   \n",
       "                feature_intelligence4               0.605645   \n",
       "                feature_intelligence5              -0.030718   \n",
       "\n",
       "                                       feature_intelligence2  \\\n",
       "data_type erano                                                \n",
       "train     1     feature_intelligence1              -0.183064   \n",
       "                feature_intelligence2               1.000000   \n",
       "                feature_intelligence3               0.915525   \n",
       "                feature_intelligence4              -0.265463   \n",
       "                feature_intelligence5               0.202574   \n",
       "\n",
       "                                       feature_intelligence3  \\\n",
       "data_type erano                                                \n",
       "train     1     feature_intelligence1              -0.215442   \n",
       "                feature_intelligence2               0.915525   \n",
       "                feature_intelligence3               1.000000   \n",
       "                feature_intelligence4              -0.275010   \n",
       "                feature_intelligence5               0.181403   \n",
       "\n",
       "                                       feature_intelligence4  \\\n",
       "data_type erano                                                \n",
       "train     1     feature_intelligence1               0.605645   \n",
       "                feature_intelligence2              -0.265463   \n",
       "                feature_intelligence3              -0.275010   \n",
       "                feature_intelligence4               1.000000   \n",
       "                feature_intelligence5              -0.021586   \n",
       "\n",
       "                                       feature_intelligence5  \\\n",
       "data_type erano                                                \n",
       "train     1     feature_intelligence1              -0.030718   \n",
       "                feature_intelligence2               0.202574   \n",
       "                feature_intelligence3               0.181403   \n",
       "                feature_intelligence4              -0.021586   \n",
       "                feature_intelligence5               1.000000   \n",
       "\n",
       "                                       feature_intelligence6  \\\n",
       "data_type erano                                                \n",
       "train     1     feature_intelligence1               0.163346   \n",
       "                feature_intelligence2              -0.103570   \n",
       "                feature_intelligence3              -0.094645   \n",
       "                feature_intelligence4               0.075758   \n",
       "                feature_intelligence5              -0.010793   \n",
       "\n",
       "                                       feature_intelligence7  \\\n",
       "data_type erano                                                \n",
       "train     1     feature_intelligence1               0.212536   \n",
       "                feature_intelligence2              -0.074097   \n",
       "                feature_intelligence3              -0.089664   \n",
       "                feature_intelligence4               0.102740   \n",
       "                feature_intelligence5              -0.041719   \n",
       "\n",
       "                                       feature_intelligence8  \\\n",
       "data_type erano                                                \n",
       "train     1     feature_intelligence1               0.678290   \n",
       "                feature_intelligence2              -0.211914   \n",
       "                feature_intelligence3              -0.221876   \n",
       "                feature_intelligence4               0.845787   \n",
       "                feature_intelligence5              -0.021586   \n",
       "\n",
       "                                       feature_intelligence9  \\\n",
       "data_type erano                                                \n",
       "train     1     feature_intelligence1              -0.391481   \n",
       "                feature_intelligence2               0.491987   \n",
       "                feature_intelligence3               0.474907   \n",
       "                feature_intelligence4              -0.396227   \n",
       "                feature_intelligence5               0.107444   \n",
       "\n",
       "                                       feature_intelligence10  ...  \\\n",
       "data_type erano                                                ...   \n",
       "train     1     feature_intelligence1               -0.381906  ...   \n",
       "                feature_intelligence2                0.462686  ...   \n",
       "                feature_intelligence3                0.465162  ...   \n",
       "                feature_intelligence4               -0.528982  ...   \n",
       "                feature_intelligence5                0.113888  ...   \n",
       "\n",
       "                                       feature_wisdom38  feature_wisdom39  \\\n",
       "data_type erano                                                             \n",
       "train     1     feature_intelligence1         -0.079037         -0.081100   \n",
       "                feature_intelligence2         -0.134916         -0.150436   \n",
       "                feature_intelligence3         -0.135161         -0.158216   \n",
       "                feature_intelligence4         -0.101663         -0.237656   \n",
       "                feature_intelligence5         -0.134063         -0.117196   \n",
       "\n",
       "                                       feature_wisdom40  feature_wisdom41  \\\n",
       "data_type erano                                                             \n",
       "train     1     feature_intelligence1         -0.122179         -0.131568   \n",
       "                feature_intelligence2          0.043079         -0.061866   \n",
       "                feature_intelligence3          0.045739         -0.056370   \n",
       "                feature_intelligence4         -0.111281         -0.097346   \n",
       "                feature_intelligence5         -0.020550         -0.026543   \n",
       "\n",
       "                                       feature_wisdom42  feature_wisdom43  \\\n",
       "data_type erano                                                             \n",
       "train     1     feature_intelligence1          0.004498          0.158217   \n",
       "                feature_intelligence2         -0.222708         -0.277809   \n",
       "                feature_intelligence3         -0.236134         -0.299822   \n",
       "                feature_intelligence4         -0.105286          0.086833   \n",
       "                feature_intelligence5         -0.115661         -0.067193   \n",
       "\n",
       "                                       feature_wisdom44  feature_wisdom45  \\\n",
       "data_type erano                                                             \n",
       "train     1     feature_intelligence1         -0.144328         -0.111529   \n",
       "                feature_intelligence2          0.017897         -0.026170   \n",
       "                feature_intelligence3          0.015951         -0.003847   \n",
       "                feature_intelligence4         -0.138672         -0.096882   \n",
       "                feature_intelligence5         -0.023926         -0.121366   \n",
       "\n",
       "                                       feature_wisdom46    target  \n",
       "data_type erano                                                    \n",
       "train     1     feature_intelligence1         -0.208354 -0.018972  \n",
       "                feature_intelligence2         -0.080134  0.026221  \n",
       "                feature_intelligence3         -0.069978  0.033954  \n",
       "                feature_intelligence4         -0.327356 -0.015093  \n",
       "                feature_intelligence5         -0.100877  0.026239  \n",
       "\n",
       "[5 rows x 311 columns]"
      ]
     },
     "execution_count": 301,
     "metadata": {},
     "output_type": "execute_result"
    }
   ],
   "source": [
    "corrs_by_era.head()"
   ]
  },
  {
   "cell_type": "code",
   "execution_count": null,
   "metadata": {},
   "outputs": [],
   "source": []
  },
  {
   "cell_type": "code",
   "execution_count": 302,
   "metadata": {},
   "outputs": [],
   "source": [
    "# Do some manipulation to get in a better format\n",
    "corrs_by_era1 = corrs_by_era.reset_index()\n",
    "corrs_by_era1 = corrs_by_era1.set_index(['data_type', 'erano', 'level_2']) \n",
    "corrs_by_era_w_target = corrs_by_era1['target'].reset_index()\n",
    "corrs_by_era_w_target = corrs_by_era_w_target.rename(columns={'level_2': 'feature', 'target': 'correlation'})\n",
    "corrs_by_era_w_target = corrs_by_era_w_target[(corrs_by_era_w_target.feature.isin(features))]"
   ]
  },
  {
   "cell_type": "code",
   "execution_count": 303,
   "metadata": {},
   "outputs": [],
   "source": [
    "avg_corr = corrs_by_era_w_target.groupby('feature').correlation.mean().reset_index()\n",
    "avg_std = corrs_by_era_w_target.groupby('feature').correlation.std().reset_index()\n",
    "avg_skew = corrs_by_era_w_target.groupby('feature').correlation.skew().reset_index()\n",
    "avg_std = avg_std.rename(columns={'correlation': 'stddev'})\n",
    "avg_skew = avg_skew.rename(columns={'correlation': 'skewness'})\n",
    "avg_corr_std = avg_corr.merge(avg_std, left_on = 'feature', right_on = 'feature')\n",
    "avg_corr_std_skew = avg_corr_std.merge(avg_skew, left_on = 'feature', right_on = 'feature') "
   ]
  },
  {
   "cell_type": "code",
   "execution_count": 304,
   "metadata": {},
   "outputs": [],
   "source": [
    "# Add a color to the feature groups \n",
    "cat_group = []\n",
    "for feat in avg_corr_std_skew.feature:\n",
    "    if 'intelligence' in feat:\n",
    "        cat_group += ['intelligence']\n",
    "    elif 'charisma' in feat:\n",
    "        cat_group += ['charisma']\n",
    "    elif 'strength' in feat:\n",
    "        cat_group += ['strength']\n",
    "    elif 'dexterity' in feat:\n",
    "        cat_group += ['dexterity']\n",
    "    elif 'constitution' in feat:\n",
    "        cat_group += ['constitution']\n",
    "    elif 'wisdom' in feat:\n",
    "        cat_group += ['wisdom']\n",
    "        \n",
    "avg_corr_std_skew['feat_cat_group'] = cat_group\n",
    "\n",
    "conditions = [\n",
    "    (stack_frame['feat_cat_group'] == 'charisma'),\n",
    "    (stack_frame['feat_cat_group'] == 'constitution'),\n",
    "    (stack_frame['feat_cat_group'] == 'dexterity'),\n",
    "    (stack_frame['feat_cat_group'] == 'intelligence'),\n",
    "    (stack_frame['feat_cat_group'] == 'strength'),\n",
    "    (stack_frame['feat_cat_group'] == 'wisdom')\n",
    "    ]\n",
    "\n",
    "# create a list of the values we want to assign for each condition\n",
    "values = ['red', 'blue', 'green', 'yellow', 'orange', 'black']\n",
    "\n",
    "# create a new column and use np.select to assign values to it using our lists as arguments\n",
    "avg_corr_std_skew['color'] = np.select(conditions, values)"
   ]
  },
  {
   "cell_type": "code",
   "execution_count": 305,
   "metadata": {},
   "outputs": [],
   "source": [
    "avg_corr_std_skew['sharpe'] = avg_corr_std_skew.stddev/abs(avg_corr_std_skew.correlation)\n",
    "avg_corr_std_skew = avg_corr_std_skew.sort_values(by='correlation')"
   ]
  },
  {
   "cell_type": "markdown",
   "metadata": {},
   "source": [
    "# There are some interesting properties of the features\n",
    "### I will stop here as to not reveal anything too cool :)"
   ]
  },
  {
   "cell_type": "code",
   "execution_count": 306,
   "metadata": {},
   "outputs": [
    {
     "data": {
      "text/plain": [
       "<BarContainer object of 310 artists>"
      ]
     },
     "execution_count": 306,
     "metadata": {},
     "output_type": "execute_result"
    },
    {
     "data": {
      "image/png": "[encoded data removed]",
      "text/plain": [
       "<Figure size 2160x1080 with 4 Axes>"
      ]
     },
     "metadata": {
      "needs_background": "light"
     },
     "output_type": "display_data"
    }
   ],
   "source": [
    "fig, ax = plt.subplots(4,1, figsize=(30,15), sharex=True)\n",
    "ax[0].set_title('Correlation')\n",
    "ax[0].bar(avg_corr_std_skew.feature, avg_corr_std_skew.correlation, color=avg_corr_std_skew.color)\n",
    "ax[1].set_title('Standard Deviation')\n",
    "ax[1].bar(avg_corr_std_skew.feature, avg_corr_std_skew.stddev, color=avg_corr_std_skew.color)\n",
    "ax[2].set_title('Sharpe')\n",
    "ax[2].bar(avg_corr_std_skew.feature, avg_corr_std_skew.sharpe, color=avg_corr_std_skew.color)\n",
    "ax[3].set_title('Skewness')\n",
    "ax[3].bar(avg_corr_std_skew.feature, avg_corr_std_skew.skewness, color=avg_corr_std_skew.color)"
   ]
  },
  {
   "cell_type": "code",
   "execution_count": null,
   "metadata": {},
   "outputs": [],
   "source": []
  },
  {
   "cell_type": "markdown",
   "metadata": {},
   "source": [
    "# Lets build a no thinking GBM model and see how it performs train and validation"
   ]
  },
  {
   "cell_type": "code",
   "execution_count": 324,
   "metadata": {},
   "outputs": [],
   "source": [
    "# Submissions are scored by spearman correlation\n",
    "def score(df):\n",
    "    # method=\"first\" breaks ties based on order in array\n",
    "    pct_ranks = df[PREDICTION_NAME].rank(pct=True, method=\"first\")\n",
    "    targets = df[TARGET_NAME]\n",
    "    return np.corrcoef(targets, pct_ranks)[0, 1]\n",
    "\n",
    "\n",
    "# Payout is just the score cliped at +/-25%\n",
    "def payout(scores):\n",
    "    return scores.clip(lower=-0.25, upper=0.25)"
   ]
  },
  {
   "cell_type": "code",
   "execution_count": 321,
   "metadata": {},
   "outputs": [],
   "source": [
    "clf = lgb.LGBMRegressor(n_estimators=100, max_depth = 2, learning_rate = 0.05, colsample_bytree = 0.1)"
   ]
  },
  {
   "cell_type": "code",
   "execution_count": 322,
   "metadata": {},
   "outputs": [
    {
     "data": {
      "text/plain": [
       "LGBMRegressor(boosting_type='gbdt', class_weight=None, colsample_bytree=0.1,\n",
       "              importance_type='split', learning_rate=0.05, max_depth=2,\n",
       "              min_child_samples=20, min_child_weight=0.001, min_split_gain=0.0,\n",
       "              n_estimators=100, n_jobs=-1, num_leaves=31, objective=None,\n",
       "              random_state=None, reg_alpha=0.0, reg_lambda=0.0, silent=True,\n",
       "              subsample=1.0, subsample_for_bin=200000, subsample_freq=0)"
      ]
     },
     "execution_count": 322,
     "metadata": {},
     "output_type": "execute_result"
    }
   ],
   "source": [
    "clf.fit(training_data[features], training_data[target])"
   ]
  },
  {
   "cell_type": "code",
   "execution_count": 323,
   "metadata": {},
   "outputs": [],
   "source": [
    "training_data['prediction'] = clf.predict(training_data[features])\n",
    "validation_data['prediction'] = clf.predict(validation_data[features])"
   ]
  },
  {
   "cell_type": "code",
   "execution_count": 325,
   "metadata": {},
   "outputs": [],
   "source": [
    "train_corrs = training_data.groupby(\"erano\").apply(score)\n",
    "val_corrs = validation_data.groupby(\"erano\").apply(score)"
   ]
  },
  {
   "cell_type": "code",
   "execution_count": null,
   "metadata": {},
   "outputs": [],
   "source": []
  },
  {
   "cell_type": "code",
   "execution_count": 347,
   "metadata": {},
   "outputs": [
    {
     "name": "stdout",
     "output_type": "stream",
     "text": [
      "0.05080540644118845 0.033128182501367474\n"
     ]
    }
   ],
   "source": [
    "print(train_corrs.mean(), train_corrs.std())"
   ]
  },
  {
   "cell_type": "code",
   "execution_count": 348,
   "metadata": {},
   "outputs": [
    {
     "name": "stdout",
     "output_type": "stream",
     "text": [
      "0.016887977875259703 0.03046571752976219\n"
     ]
    }
   ],
   "source": [
    "print(val_corrs.mean(), val_corrs.std())"
   ]
  },
  {
   "cell_type": "markdown",
   "metadata": {},
   "source": [
    "# Simple model performs better on train that val (no surprise here)\n",
    "\n",
    " - Some eras still have negative correlation during train\n",
    " - Validation has a large time gap, seems like eras > 200 are under a different regime than the train "
   ]
  },
  {
   "cell_type": "code",
   "execution_count": 344,
   "metadata": {},
   "outputs": [
    {
     "data": {
      "text/plain": [
       "<BarContainer object of 28 artists>"
      ]
     },
     "execution_count": 344,
     "metadata": {},
     "output_type": "execute_result"
    },
    {
     "data": {
      "image/png": "[encoded data removed]",
      "text/plain": [
       "<Figure size 1080x360 with 1 Axes>"
      ]
     },
     "metadata": {
      "needs_background": "light"
     },
     "output_type": "display_data"
    }
   ],
   "source": [
    "plt.figure(figsize = (15, 5))\n",
    "plt.bar(train_corrs.index, train_corrs.values, color='b')\n",
    "plt.bar(val_corrs.index, val_corrs.values, color='r')"
   ]
  },
  {
   "cell_type": "code",
   "execution_count": null,
   "metadata": {},
   "outputs": [],
   "source": []
  },
  {
   "cell_type": "markdown",
   "metadata": {},
   "source": [
    "## Does grouped correlation extend to total correlation of dataset?\n",
    "- Yes - generally the overall spearman correlation goes with the era grouped average correlation \n",
    "- Probably want to confirm this with more testing"
   ]
  },
  {
   "cell_type": "code",
   "execution_count": 427,
   "metadata": {},
   "outputs": [],
   "source": [
    "train_corrs = training_data.groupby(\"erano\").apply(score)\n",
    "val_corrs = validation_data.groupby(\"erano\").apply(score)"
   ]
  },
  {
   "cell_type": "code",
   "execution_count": 428,
   "metadata": {},
   "outputs": [
    {
     "name": "stdout",
     "output_type": "stream",
     "text": [
      "0.05080540644118845 0.017569564190877688\n"
     ]
    }
   ],
   "source": [
    "print(train_corrs.mean(), val_corrs.mean())"
   ]
  },
  {
   "cell_type": "code",
   "execution_count": 426,
   "metadata": {},
   "outputs": [
    {
     "data": {
      "text/html": [
       "<div>\n",
       "<style scoped>\n",
       "    .dataframe tbody tr th:only-of-type {\n",
       "        vertical-align: middle;\n",
       "    }\n",
       "\n",
       "    .dataframe tbody tr th {\n",
       "        vertical-align: top;\n",
       "    }\n",
       "\n",
       "    .dataframe thead th {\n",
       "        text-align: right;\n",
       "    }\n",
       "</style>\n",
       "<table border=\"1\" class=\"dataframe\">\n",
       "  <thead>\n",
       "    <tr style=\"text-align: right;\">\n",
       "      <th></th>\n",
       "      <th>target</th>\n",
       "      <th>prediction</th>\n",
       "    </tr>\n",
       "  </thead>\n",
       "  <tbody>\n",
       "    <tr>\n",
       "      <th>target</th>\n",
       "      <td>1.000000</td>\n",
       "      <td>0.050481</td>\n",
       "    </tr>\n",
       "    <tr>\n",
       "      <th>prediction</th>\n",
       "      <td>0.050481</td>\n",
       "      <td>1.000000</td>\n",
       "    </tr>\n",
       "  </tbody>\n",
       "</table>\n",
       "</div>"
      ],
      "text/plain": [
       "              target  prediction\n",
       "target      1.000000    0.050481\n",
       "prediction  0.050481    1.000000"
      ]
     },
     "execution_count": 426,
     "metadata": {},
     "output_type": "execute_result"
    }
   ],
   "source": [
    "training_data[['target', 'prediction']].corr(method='spearman')"
   ]
  },
  {
   "cell_type": "code",
   "execution_count": 429,
   "metadata": {},
   "outputs": [
    {
     "data": {
      "text/html": [
       "<div>\n",
       "<style scoped>\n",
       "    .dataframe tbody tr th:only-of-type {\n",
       "        vertical-align: middle;\n",
       "    }\n",
       "\n",
       "    .dataframe tbody tr th {\n",
       "        vertical-align: top;\n",
       "    }\n",
       "\n",
       "    .dataframe thead th {\n",
       "        text-align: right;\n",
       "    }\n",
       "</style>\n",
       "<table border=\"1\" class=\"dataframe\">\n",
       "  <thead>\n",
       "    <tr style=\"text-align: right;\">\n",
       "      <th></th>\n",
       "      <th>target</th>\n",
       "      <th>prediction</th>\n",
       "    </tr>\n",
       "  </thead>\n",
       "  <tbody>\n",
       "    <tr>\n",
       "      <th>target</th>\n",
       "      <td>1.000000</td>\n",
       "      <td>0.017423</td>\n",
       "    </tr>\n",
       "    <tr>\n",
       "      <th>prediction</th>\n",
       "      <td>0.017423</td>\n",
       "      <td>1.000000</td>\n",
       "    </tr>\n",
       "  </tbody>\n",
       "</table>\n",
       "</div>"
      ],
      "text/plain": [
       "              target  prediction\n",
       "target      1.000000    0.017423\n",
       "prediction  0.017423    1.000000"
      ]
     },
     "execution_count": 429,
     "metadata": {},
     "output_type": "execute_result"
    }
   ],
   "source": [
    "validation_data[['target', 'prediction']].corr(method='spearman')"
   ]
  },
  {
   "cell_type": "markdown",
   "metadata": {},
   "source": [
    "## Lets see if we can improve consistency by doing cross validation across era's \n",
    "- each era represents a non overlapping 4 week period of stock performance \n",
    "- we want our model to perform well on any time period \n",
    "- lets split into era groups for both KFold and TimeSeriesSplit"
   ]
  },
  {
   "cell_type": "code",
   "execution_count": 460,
   "metadata": {},
   "outputs": [],
   "source": [
    "# Custom TimeSeriesSplitGroups to actually work correctly\n",
    "\n",
    "class TimeSeriesSplitGroups(_BaseKFold):\n",
    "    def __init__(self, n_splits=5):\n",
    "        super().__init__(n_splits, shuffle=False, random_state=None)\n",
    "\n",
    "    def split(self, X, y=None, groups=None):\n",
    "        X, y, groups = indexable(X, y, groups)\n",
    "        n_samples = _num_samples(X)\n",
    "        n_splits = self.n_splits\n",
    "        n_folds = n_splits + 1\n",
    "        group_list = np.unique(groups)\n",
    "        n_groups = len(group_list)\n",
    "        if n_folds > n_groups:\n",
    "            raise ValueError(\n",
    "                (\"Cannot have number of folds ={0} greater\"\n",
    "                 \" than the number of samples: {1}.\").format(n_folds,\n",
    "                                                             n_groups))\n",
    "        indices = np.arange(n_samples)\n",
    "        test_size = (n_groups // n_folds)\n",
    "        test_starts = range(test_size + n_groups % n_folds,\n",
    "                            n_groups, test_size)\n",
    "        test_starts = list(test_starts)[::-1]\n",
    "        for test_start in test_starts:\n",
    "            \n",
    "            yield (indices[groups.isin(group_list[:test_start])],\n",
    "                   indices[groups.isin(group_list[test_start:test_start + test_size])])"
   ]
  },
  {
   "cell_type": "code",
   "execution_count": 365,
   "metadata": {},
   "outputs": [],
   "source": [
    "from sklearn.model_selection import KFold"
   ]
  },
  {
   "cell_type": "code",
   "execution_count": 413,
   "metadata": {},
   "outputs": [],
   "source": [
    "gcv = KFold(5)\n",
    "\n",
    "train_era_groups = []\n",
    "test_era_groups = []\n",
    "for train, test in gcv.split(training_data[features], training_data[TARGET_NAME], groups=training_data.erano):\n",
    "    train_era_groups += [training_data.iloc[train].erano.unique()]\n",
    "    test_era_groups += [training_data.iloc[test].erano.unique()]"
   ]
  },
  {
   "cell_type": "code",
   "execution_count": 422,
   "metadata": {},
   "outputs": [
    {
     "data": {
      "text/plain": [
       "[array([ 1,  2,  3,  4,  5,  6,  7,  8,  9, 10, 11, 12, 13, 14, 15, 16, 17,\n",
       "        18, 19, 20, 21, 22, 23, 24, 25, 26, 27, 28, 29, 30]),\n",
       " array([30, 31, 32, 33, 34, 35, 36, 37, 38, 39, 40, 41, 42, 43, 44, 45, 46,\n",
       "        47, 48, 49, 50, 51, 52, 53, 54]),\n",
       " array([54, 55, 56, 57, 58, 59, 60, 61, 62, 63, 64, 65, 66, 67, 68, 69, 70,\n",
       "        71, 72, 73, 74, 75, 76]),\n",
       " array([76, 77, 78, 79, 80, 81, 82, 83, 84, 85, 86, 87, 88, 89, 90, 91, 92,\n",
       "        93, 94, 95, 96, 97, 98, 99]),\n",
       " array([ 99, 100, 101, 102, 103, 104, 105, 106, 107, 108, 109, 110, 111,\n",
       "        112, 113, 114, 115, 116, 117, 118, 119, 120])]"
      ]
     },
     "execution_count": 422,
     "metadata": {},
     "output_type": "execute_result"
    }
   ],
   "source": [
    "test_era_groups"
   ]
  },
  {
   "cell_type": "code",
   "execution_count": 442,
   "metadata": {},
   "outputs": [],
   "source": [
    "# Expanding window for training, testing is a static size\n",
    "\n",
    "gcv = TimeSeriesSplitGroups(5)\n",
    "\n",
    "train_era_groups = []\n",
    "test_era_groups = []\n",
    "for train, test in gcv.split(training_data[features], training_data[TARGET_NAME], groups=training_data.erano):\n",
    "    train_era_groups += [training_data.iloc[train].erano.unique()]\n",
    "    test_era_groups += [training_data.iloc[test].erano.unique()]"
   ]
  },
  {
   "cell_type": "code",
   "execution_count": 444,
   "metadata": {},
   "outputs": [
    {
     "data": {
      "text/plain": [
       "[array([  1,   2,   3,   4,   5,   6,   7,   8,   9,  10,  11,  12,  13,\n",
       "         14,  15,  16,  17,  18,  19,  20,  21,  22,  23,  24,  25,  26,\n",
       "         27,  28,  29,  30,  31,  32,  33,  34,  35,  36,  37,  38,  39,\n",
       "         40,  41,  42,  43,  44,  45,  46,  47,  48,  49,  50,  51,  52,\n",
       "         53,  54,  55,  56,  57,  58,  59,  60,  61,  62,  63,  64,  65,\n",
       "         66,  67,  68,  69,  70,  71,  72,  73,  74,  75,  76,  77,  78,\n",
       "         79,  80,  81,  82,  83,  84,  85,  86,  87,  88,  89,  90,  91,\n",
       "         92,  93,  94,  95,  96,  97,  98,  99, 100]),\n",
       " array([ 1,  2,  3,  4,  5,  6,  7,  8,  9, 10, 11, 12, 13, 14, 15, 16, 17,\n",
       "        18, 19, 20, 21, 22, 23, 24, 25, 26, 27, 28, 29, 30, 31, 32, 33, 34,\n",
       "        35, 36, 37, 38, 39, 40, 41, 42, 43, 44, 45, 46, 47, 48, 49, 50, 51,\n",
       "        52, 53, 54, 55, 56, 57, 58, 59, 60, 61, 62, 63, 64, 65, 66, 67, 68,\n",
       "        69, 70, 71, 72, 73, 74, 75, 76, 77, 78, 79, 80]),\n",
       " array([ 1,  2,  3,  4,  5,  6,  7,  8,  9, 10, 11, 12, 13, 14, 15, 16, 17,\n",
       "        18, 19, 20, 21, 22, 23, 24, 25, 26, 27, 28, 29, 30, 31, 32, 33, 34,\n",
       "        35, 36, 37, 38, 39, 40, 41, 42, 43, 44, 45, 46, 47, 48, 49, 50, 51,\n",
       "        52, 53, 54, 55, 56, 57, 58, 59, 60]),\n",
       " array([ 1,  2,  3,  4,  5,  6,  7,  8,  9, 10, 11, 12, 13, 14, 15, 16, 17,\n",
       "        18, 19, 20, 21, 22, 23, 24, 25, 26, 27, 28, 29, 30, 31, 32, 33, 34,\n",
       "        35, 36, 37, 38, 39, 40]),\n",
       " array([ 1,  2,  3,  4,  5,  6,  7,  8,  9, 10, 11, 12, 13, 14, 15, 16, 17,\n",
       "        18, 19, 20])]"
      ]
     },
     "execution_count": 444,
     "metadata": {},
     "output_type": "execute_result"
    }
   ],
   "source": [
    "train_era_groups"
   ]
  },
  {
   "cell_type": "code",
   "execution_count": null,
   "metadata": {},
   "outputs": [],
   "source": []
  },
  {
   "cell_type": "code",
   "execution_count": null,
   "metadata": {},
   "outputs": [],
   "source": []
  },
  {
   "cell_type": "markdown",
   "metadata": {},
   "source": [
    "### Quick CV test on KFold vs TimeSeriesSplitGroups\n",
    "- Performs similar, but lets try both"
   ]
  },
  {
   "cell_type": "code",
   "execution_count": 42,
   "metadata": {},
   "outputs": [],
   "source": [
    "def spearman(y_true, y_pred): \n",
    "    return stats.spearmanr(y_pred, y_true).correlation "
   ]
  },
  {
   "cell_type": "code",
   "execution_count": 467,
   "metadata": {},
   "outputs": [],
   "source": [
    "clf = lgb.LGBMRegressor(n_estimators=100, max_depth = 2, learning_rate = 0.05, colsample_bytree = 0.1)\n",
    "\n",
    "corrs_kfold = cross_val_score(\n",
    "            clf,\n",
    "            training_data[features],\n",
    "            training_data[TARGET_NAME],\n",
    "            cv=KFold(5),\n",
    "            n_jobs=1,\n",
    "            groups=training_data.erano,\n",
    "            scoring=metrics.make_scorer(spearman, greater_is_better=True))"
   ]
  },
  {
   "cell_type": "code",
   "execution_count": 468,
   "metadata": {},
   "outputs": [
    {
     "data": {
      "text/plain": [
       "0.2856437397448748"
      ]
     },
     "execution_count": 468,
     "metadata": {},
     "output_type": "execute_result"
    }
   ],
   "source": [
    "corrs_kfold.std()/corrs_kfold.mean()"
   ]
  },
  {
   "cell_type": "code",
   "execution_count": 469,
   "metadata": {},
   "outputs": [],
   "source": [
    "clf = lgb.LGBMRegressor(n_estimators=100, max_depth = 2, learning_rate = 0.05, colsample_bytree = 0.1)\n",
    "\n",
    "corrs_ts = cross_val_score(\n",
    "            clf,\n",
    "            training_data[features],\n",
    "            training_data[TARGET_NAME],\n",
    "            cv=TimeSeriesSplitGroups(5),\n",
    "            n_jobs=1,\n",
    "            groups=training_data.erano,\n",
    "            scoring=metrics.make_scorer(spearman, greater_is_better=True))"
   ]
  },
  {
   "cell_type": "code",
   "execution_count": 470,
   "metadata": {},
   "outputs": [
    {
     "data": {
      "text/plain": [
       "0.28424119232937056"
      ]
     },
     "execution_count": 470,
     "metadata": {},
     "output_type": "execute_result"
    }
   ],
   "source": [
    "corrs_ts.std()/corrs_ts.mean()"
   ]
  },
  {
   "cell_type": "markdown",
   "metadata": {},
   "source": [
    "## We want a high average correlation with low standard deviation \n",
    "- Lets tune hyper parameters with STD/MEAN on cross validated scores\n",
    "- This may not be the best option"
   ]
  },
  {
   "cell_type": "code",
   "execution_count": 472,
   "metadata": {},
   "outputs": [],
   "source": [
    "def hyperopt_KFold(params):\n",
    "    \n",
    "    clf = lgb.LGBMRegressor(**params, objective='mse', metric='None')   \n",
    "    \n",
    "    corrs_kfold = cross_val_score(\n",
    "            clf,\n",
    "            training_data[features],\n",
    "            training_data[TARGET_NAME],\n",
    "            cv=KFold(5),\n",
    "            n_jobs=1,\n",
    "            groups=training_data.erano,\n",
    "            scoring=metrics.make_scorer(spearman, greater_is_better=True))\n",
    "    \n",
    "    loss = corrs_kfold.std()/corrs_kfold.mean()\n",
    "    \n",
    "    return loss\n",
    "\n",
    "space = {'n_estimators': hp.choice('n_estimators', range(50,5000)),\n",
    "          'max_depth': hp.choice('max_depth', range(1,6)),\n",
    "          'colsample_bytree':hp.quniform('colsample_bytree', 0, 1, 0.005),\n",
    "          'learning_rate': hp.quniform('learning_rate', 0, 0.5, 0.005)\n",
    "#          , 'subsample': hp.quniform('subsample', 0.05, 0.95, 0.01)\n",
    "        }\n",
    "\n",
    "def f(params):\n",
    "    loss = hyperopt_KFold(params)\n",
    "    return {'loss': loss, 'status': STATUS_OK}\n",
    "\n",
    "trials = Trials()"
   ]
  },
  {
   "cell_type": "code",
   "execution_count": 473,
   "metadata": {},
   "outputs": [
    {
     "name": "stdout",
     "output_type": "stream",
     "text": [
      "\n",
      "  0%|                                                                           | 0/25 [00:00<?, ?trial/s, best loss=?]\u001b[A"
     ]
    },
    {
     "name": "stderr",
     "output_type": "stream",
     "text": [
      "2022-05-01 07:50:42,526 INFO hyperopt.tpe: build_posterior_wrapper took 0.216255 seconds\n",
      "2022-05-01 07:50:42,527 INFO hyperopt.tpe: TPE using 0 trials\n"
     ]
    },
    {
     "name": "stdout",
     "output_type": "stream",
     "text": [
      "\n",
      "  4%|█▊                                           | 1/25 [08:26<3:22:46, 506.92s/trial, best loss: 0.30222575844135624]\u001b[A"
     ]
    },
    {
     "name": "stderr",
     "output_type": "stream",
     "text": [
      "2022-05-01 07:59:09,602 INFO hyperopt.tpe: build_posterior_wrapper took 0.341323 seconds\n",
      "2022-05-01 07:59:09,602 INFO hyperopt.tpe: TPE using 1/1 trials with best loss 0.302226\n"
     ]
    },
    {
     "name": "stdout",
     "output_type": "stream",
     "text": [
      "\n",
      "  8%|███▌                                         | 2/25 [09:09<2:20:55, 367.63s/trial, best loss: 0.18640710599754726]\u001b[A"
     ]
    },
    {
     "name": "stderr",
     "output_type": "stream",
     "text": [
      "2022-05-01 07:59:52,101 INFO hyperopt.tpe: build_posterior_wrapper took 0.247027 seconds\n",
      "2022-05-01 07:59:52,101 INFO hyperopt.tpe: TPE using 2/2 trials with best loss 0.186407\n"
     ]
    },
    {
     "name": "stdout",
     "output_type": "stream",
     "text": [
      "\n",
      " 12%|█████▍                                       | 3/25 [20:07<2:46:45, 454.81s/trial, best loss: 0.18640710599754726]\u001b[A"
     ]
    },
    {
     "name": "stderr",
     "output_type": "stream",
     "text": [
      "2022-05-01 08:10:50,299 INFO hyperopt.tpe: build_posterior_wrapper took 0.222438 seconds\n",
      "2022-05-01 08:10:50,299 INFO hyperopt.tpe: TPE using 3/3 trials with best loss 0.186407\n"
     ]
    },
    {
     "name": "stdout",
     "output_type": "stream",
     "text": [
      "\n",
      " 16%|███████▏                                     | 4/25 [21:35<2:00:41, 344.83s/trial, best loss: 0.18640710599754726]\u001b[A"
     ]
    },
    {
     "name": "stderr",
     "output_type": "stream",
     "text": [
      "2022-05-01 08:12:20,582 INFO hyperopt.tpe: build_posterior_wrapper took 2.282737 seconds\n",
      "2022-05-01 08:12:20,582 INFO hyperopt.tpe: TPE using 4/4 trials with best loss 0.186407\n"
     ]
    },
    {
     "name": "stdout",
     "output_type": "stream",
     "text": [
      "\n",
      " 20%|█████████                                    | 5/25 [59:14<5:06:21, 919.08s/trial, best loss: 0.18640710599754726]\u001b[A"
     ]
    },
    {
     "name": "stderr",
     "output_type": "stream",
     "text": [
      "2022-05-01 08:49:57,514 INFO hyperopt.tpe: build_posterior_wrapper took 0.221033 seconds\n",
      "2022-05-01 08:49:57,514 INFO hyperopt.tpe: TPE using 5/5 trials with best loss 0.186407\n"
     ]
    },
    {
     "name": "stdout",
     "output_type": "stream",
     "text": [
      "\n",
      " 24%|██████████                                | 6/25 [1:23:07<5:39:49, 1073.15s/trial, best loss: 0.18640710599754726]\u001b[A"
     ]
    },
    {
     "name": "stderr",
     "output_type": "stream",
     "text": [
      "2022-05-01 09:13:50,158 INFO hyperopt.tpe: build_posterior_wrapper took 0.214029 seconds\n",
      "2022-05-01 09:13:50,158 INFO hyperopt.tpe: TPE using 6/6 trials with best loss 0.186407\n"
     ]
    },
    {
     "name": "stdout",
     "output_type": "stream",
     "text": [
      "\n",
      " 28%|████████████                               | 7/25 [1:41:54<5:26:46, 1089.23s/trial, best loss: 0.1279782806474897]\u001b[A"
     ]
    },
    {
     "name": "stderr",
     "output_type": "stream",
     "text": [
      "2022-05-01 09:32:37,000 INFO hyperopt.tpe: build_posterior_wrapper took 0.331615 seconds\n",
      "2022-05-01 09:32:37,000 INFO hyperopt.tpe: TPE using 7/7 trials with best loss 0.127978\n"
     ]
    },
    {
     "name": "stdout",
     "output_type": "stream",
     "text": [
      "\n",
      " 32%|█████████████▊                             | 8/25 [2:00:39<5:11:37, 1099.88s/trial, best loss: 0.1279782806474897]\u001b[A"
     ]
    },
    {
     "name": "stderr",
     "output_type": "stream",
     "text": [
      "2022-05-01 09:51:21,635 INFO hyperopt.tpe: build_posterior_wrapper took 0.236616 seconds\n",
      "2022-05-01 09:51:21,635 INFO hyperopt.tpe: TPE using 8/8 trials with best loss 0.127978\n"
     ]
    },
    {
     "name": "stdout",
     "output_type": "stream",
     "text": [
      "\n",
      " 36%|███████████████▊                            | 9/25 [2:09:27<4:07:33, 928.36s/trial, best loss: 0.1279782806474897]\u001b[A"
     ]
    },
    {
     "name": "stderr",
     "output_type": "stream",
     "text": [
      "2022-05-01 10:00:09,784 INFO hyperopt.tpe: build_posterior_wrapper took 0.216874 seconds\n",
      "2022-05-01 10:00:09,784 INFO hyperopt.tpe: TPE using 9/9 trials with best loss 0.127978\n"
     ]
    },
    {
     "name": "stdout",
     "output_type": "stream",
     "text": [
      "\n",
      " 40%|█████████████████▏                         | 10/25 [2:14:46<3:06:25, 745.70s/trial, best loss: 0.1279782806474897]\u001b[A"
     ]
    },
    {
     "name": "stderr",
     "output_type": "stream",
     "text": [
      "2022-05-01 10:05:31,346 INFO hyperopt.tpe: build_posterior_wrapper took 2.280403 seconds\n",
      "2022-05-01 10:05:31,346 INFO hyperopt.tpe: TPE using 10/10 trials with best loss 0.127978\n"
     ]
    },
    {
     "name": "stdout",
     "output_type": "stream",
     "text": [
      "\n",
      " 44%|██████████████████▍                       | 11/25 [2:18:10<2:16:04, 583.17s/trial, best loss: 0.06862129906029786]\u001b[A"
     ]
    },
    {
     "name": "stderr",
     "output_type": "stream",
     "text": [
      "2022-05-01 10:08:53,317 INFO hyperopt.tpe: build_posterior_wrapper took 0.343352 seconds\n",
      "2022-05-01 10:08:53,317 INFO hyperopt.tpe: TPE using 11/11 trials with best loss 0.068621\n"
     ]
    },
    {
     "name": "stdout",
     "output_type": "stream",
     "text": [
      "\n",
      " 48%|████████████████████▏                     | 12/25 [2:25:24<1:56:40, 538.51s/trial, best loss: 0.06862129906029786]\u001b[A"
     ]
    },
    {
     "name": "stderr",
     "output_type": "stream",
     "text": [
      "2022-05-01 10:16:07,508 INFO hyperopt.tpe: build_posterior_wrapper took 0.201485 seconds\n",
      "2022-05-01 10:16:07,524 INFO hyperopt.tpe: TPE using 12/12 trials with best loss 0.068621\n"
     ]
    },
    {
     "name": "stdout",
     "output_type": "stream",
     "text": [
      "\n",
      " 52%|█████████████████████▊                    | 13/25 [2:29:47<1:31:09, 455.77s/trial, best loss: 0.06862129906029786]\u001b[A"
     ]
    },
    {
     "name": "stderr",
     "output_type": "stream",
     "text": [
      "2022-05-01 10:20:30,239 INFO hyperopt.tpe: build_posterior_wrapper took 0.235948 seconds\n",
      "2022-05-01 10:20:30,239 INFO hyperopt.tpe: TPE using 13/13 trials with best loss 0.068621\n"
     ]
    },
    {
     "name": "stdout",
     "output_type": "stream",
     "text": [
      "\n",
      " 56%|███████████████████████▌                  | 14/25 [2:42:58<1:41:58, 556.18s/trial, best loss: 0.06862129906029786]\u001b[A"
     ]
    },
    {
     "name": "stderr",
     "output_type": "stream",
     "text": [
      "2022-05-01 10:33:40,698 INFO hyperopt.tpe: build_posterior_wrapper took 0.216317 seconds\n",
      "2022-05-01 10:33:40,698 INFO hyperopt.tpe: TPE using 14/14 trials with best loss 0.068621\n"
     ]
    },
    {
     "name": "stdout",
     "output_type": "stream",
     "text": [
      "\n",
      " 60%|█████████████████████████▏                | 15/25 [2:47:26<1:18:18, 469.88s/trial, best loss: 0.06862129906029786]\u001b[A"
     ]
    },
    {
     "name": "stderr",
     "output_type": "stream",
     "text": [
      "2022-05-01 10:38:10,452 INFO hyperopt.tpe: build_posterior_wrapper took 1.449826 seconds\n",
      "2022-05-01 10:38:10,452 INFO hyperopt.tpe: TPE using 15/15 trials with best loss 0.068621\n"
     ]
    },
    {
     "name": "stdout",
     "output_type": "stream",
     "text": [
      "\n",
      " 64%|██████████████████████████▉               | 16/25 [3:03:17<1:32:08, 614.30s/trial, best loss: 0.06862129906029786]\u001b[A"
     ]
    },
    {
     "name": "stderr",
     "output_type": "stream",
     "text": [
      "2022-05-01 10:54:00,587 INFO hyperopt.tpe: build_posterior_wrapper took 0.307574 seconds\n",
      "2022-05-01 10:54:00,603 INFO hyperopt.tpe: TPE using 16/16 trials with best loss 0.068621\n"
     ]
    },
    {
     "name": "stdout",
     "output_type": "stream",
     "text": [
      "\n",
      " 68%|████████████████████████████▌             | 17/25 [3:20:38<1:38:57, 742.17s/trial, best loss: 0.06862129906029786]\u001b[A"
     ]
    },
    {
     "name": "stderr",
     "output_type": "stream",
     "text": [
      "2022-05-01 11:11:21,107 INFO hyperopt.tpe: build_posterior_wrapper took 0.310734 seconds\n",
      "2022-05-01 11:11:21,109 INFO hyperopt.tpe: TPE using 17/17 trials with best loss 0.068621\n"
     ]
    },
    {
     "name": "stdout",
     "output_type": "stream",
     "text": [
      "\n",
      " 72%|██████████████████████████████▏           | 18/25 [3:28:59<1:18:09, 669.89s/trial, best loss: 0.06862129906029786]\u001b[A"
     ]
    },
    {
     "name": "stderr",
     "output_type": "stream",
     "text": [
      "2022-05-01 11:19:42,253 INFO hyperopt.tpe: build_posterior_wrapper took 0.219792 seconds\n",
      "2022-05-01 11:19:42,253 INFO hyperopt.tpe: TPE using 18/18 trials with best loss 0.068621\n"
     ]
    },
    {
     "name": "stdout",
     "output_type": "stream",
     "text": [
      "\n",
      " 76%|███████████████████████████████▉          | 19/25 [3:39:48<1:06:21, 663.61s/trial, best loss: 0.06862129906029786]\u001b[A"
     ]
    },
    {
     "name": "stderr",
     "output_type": "stream",
     "text": [
      "2022-05-01 11:30:31,206 INFO hyperopt.tpe: build_posterior_wrapper took 0.213989 seconds\n",
      "2022-05-01 11:30:31,206 INFO hyperopt.tpe: TPE using 19/19 trials with best loss 0.068621\n"
     ]
    },
    {
     "name": "stdout",
     "output_type": "stream",
     "text": [
      "\n",
      " 80%|█████████████████████████████████▌        | 20/25 [3:56:06<1:03:08, 757.74s/trial, best loss: 0.06862129906029786]\u001b[A"
     ]
    },
    {
     "name": "stderr",
     "output_type": "stream",
     "text": [
      "2022-05-01 11:46:48,703 INFO hyperopt.tpe: build_posterior_wrapper took 0.326076 seconds\n",
      "2022-05-01 11:46:48,703 INFO hyperopt.tpe: TPE using 20/20 trials with best loss 0.068621\n"
     ]
    },
    {
     "name": "stdout",
     "output_type": "stream",
     "text": [
      "\n",
      " 84%|████████████████████████████████████▉       | 21/25 [4:06:11<47:28, 712.18s/trial, best loss: 0.06862129906029786]\u001b[A"
     ]
    },
    {
     "name": "stderr",
     "output_type": "stream",
     "text": [
      "2022-05-01 11:56:57,072 INFO hyperopt.tpe: build_posterior_wrapper took 2.801731 seconds\n",
      "2022-05-01 11:56:57,072 INFO hyperopt.tpe: TPE using 21/21 trials with best loss 0.068621\n"
     ]
    },
    {
     "name": "stdout",
     "output_type": "stream",
     "text": [
      "\n",
      " 88%|██████████████████████████████████████▋     | 22/25 [4:12:02<30:11, 603.77s/trial, best loss: 0.06862129906029786]\u001b[A"
     ]
    },
    {
     "name": "stderr",
     "output_type": "stream",
     "text": [
      "2022-05-01 12:02:45,284 INFO hyperopt.tpe: build_posterior_wrapper took 0.195425 seconds\n",
      "2022-05-01 12:02:45,284 INFO hyperopt.tpe: TPE using 22/22 trials with best loss 0.068621\n"
     ]
    },
    {
     "name": "stdout",
     "output_type": "stream",
     "text": [
      "\n",
      " 92%|████████████████████████████████████████▍   | 23/25 [4:15:07<15:55, 477.98s/trial, best loss: 0.06862129906029786]\u001b[A"
     ]
    },
    {
     "name": "stderr",
     "output_type": "stream",
     "text": [
      "2022-05-01 12:05:49,766 INFO hyperopt.tpe: build_posterior_wrapper took 0.227782 seconds\n",
      "2022-05-01 12:05:49,766 INFO hyperopt.tpe: TPE using 23/23 trials with best loss 0.068621\n"
     ]
    },
    {
     "name": "stdout",
     "output_type": "stream",
     "text": [
      "\n",
      " 96%|██████████████████████████████████████████▏ | 24/25 [4:16:29<05:59, 359.19s/trial, best loss: 0.06862129906029786]\u001b[A"
     ]
    },
    {
     "name": "stderr",
     "output_type": "stream",
     "text": [
      "2022-05-01 12:07:11,790 INFO hyperopt.tpe: build_posterior_wrapper took 0.233143 seconds\n",
      "2022-05-01 12:07:11,791 INFO hyperopt.tpe: TPE using 24/24 trials with best loss 0.068621\n"
     ]
    },
    {
     "name": "stdout",
     "output_type": "stream",
     "text": [
      "\n",
      "100%|████████████████████████████████████████████| 25/25 [4:18:25<00:00, 620.23s/trial, best loss: 0.06862129906029786]\u001b[A\n"
     ]
    }
   ],
   "source": [
    "best = fmin(f, space, algo=tpe.suggest, max_evals=25, trials=trials)"
   ]
  },
  {
   "cell_type": "code",
   "execution_count": 477,
   "metadata": {},
   "outputs": [
    {
     "data": {
      "text/plain": [
       "{'colsample_bytree': 0.025,\n",
       " 'learning_rate': 0.375,\n",
       " 'max_depth': 4,\n",
       " 'n_estimators': 1911}"
      ]
     },
     "execution_count": 477,
     "metadata": {},
     "output_type": "execute_result"
    }
   ],
   "source": [
    "best"
   ]
  },
  {
   "cell_type": "code",
   "execution_count": 9,
   "metadata": {},
   "outputs": [],
   "source": [
    "best = {'colsample_bytree': 0.025,\n",
    " 'learning_rate': 0.375,\n",
    " 'max_depth': 4,\n",
    " 'n_estimators': 1911}"
   ]
  },
  {
   "cell_type": "code",
   "execution_count": 48,
   "metadata": {},
   "outputs": [],
   "source": [
    "clf = lgb.LGBMRegressor(n_estimators=best['n_estimators'], max_depth=best['max_depth'], learning_rate=best['learning_rate'], colsample_bytree=best['colsample_bytree'], verbose=5, objective='mse', metric='None')\n",
    "\n",
    "corrs_kfold = cross_val_score(\n",
    "            clf,\n",
    "            training_data[features],\n",
    "            training_data[TARGET_NAME],\n",
    "            cv=KFold(5),\n",
    "            n_jobs=1,\n",
    "            groups=training_data.erano,\n",
    "            scoring=metrics.make_scorer(spearman, greater_is_better=True))"
   ]
  },
  {
   "cell_type": "code",
   "execution_count": 49,
   "metadata": {},
   "outputs": [
    {
     "data": {
      "text/plain": [
       "0.20252153609607296"
      ]
     },
     "execution_count": 49,
     "metadata": {},
     "output_type": "execute_result"
    }
   ],
   "source": [
    "corrs_kfold.std()/corrs_kfold.mean()"
   ]
  },
  {
   "cell_type": "code",
   "execution_count": 10,
   "metadata": {},
   "outputs": [],
   "source": [
    "def correlation_score(y_true, y_pred):\n",
    "    return 'correlation', stats.spearmanr(y_true, y_pred)[0], True"
   ]
  },
  {
   "cell_type": "code",
   "execution_count": 16,
   "metadata": {},
   "outputs": [
    {
     "name": "stdout",
     "output_type": "stream",
     "text": [
      "[1]\tvalid_0's correlation: 0.00731007\n",
      "Training until validation scores don't improve for 100 rounds\n",
      "[2]\tvalid_0's correlation: 0.0141446\n",
      "[3]\tvalid_0's correlation: 0.0150931\n",
      "[4]\tvalid_0's correlation: 0.0156171\n",
      "[5]\tvalid_0's correlation: 0.0132632\n",
      "[6]\tvalid_0's correlation: 0.0126377\n",
      "[7]\tvalid_0's correlation: 0.0118716\n",
      "[8]\tvalid_0's correlation: 0.0112016\n",
      "[9]\tvalid_0's correlation: 0.0104403\n",
      "[10]\tvalid_0's correlation: 0.013023\n",
      "[11]\tvalid_0's correlation: 0.0125996\n",
      "[12]\tvalid_0's correlation: 0.0121118\n",
      "[13]\tvalid_0's correlation: 0.0130629\n",
      "[14]\tvalid_0's correlation: 0.0138394\n",
      "[15]\tvalid_0's correlation: 0.0140161\n",
      "[16]\tvalid_0's correlation: 0.0139381\n",
      "[17]\tvalid_0's correlation: 0.0142975\n",
      "[18]\tvalid_0's correlation: 0.0131431\n",
      "[19]\tvalid_0's correlation: 0.0129736\n",
      "[20]\tvalid_0's correlation: 0.0127882\n",
      "[21]\tvalid_0's correlation: 0.0131823\n",
      "[22]\tvalid_0's correlation: 0.0123786\n",
      "[23]\tvalid_0's correlation: 0.0123076\n",
      "[24]\tvalid_0's correlation: 0.0124048\n",
      "[25]\tvalid_0's correlation: 0.0129916\n",
      "[26]\tvalid_0's correlation: 0.0128804\n",
      "[27]\tvalid_0's correlation: 0.0133235\n",
      "[28]\tvalid_0's correlation: 0.0138996\n",
      "[29]\tvalid_0's correlation: 0.0135375\n",
      "[30]\tvalid_0's correlation: 0.013141\n",
      "[31]\tvalid_0's correlation: 0.0132079\n",
      "[32]\tvalid_0's correlation: 0.0133674\n",
      "[33]\tvalid_0's correlation: 0.013566\n",
      "[34]\tvalid_0's correlation: 0.013867\n",
      "[35]\tvalid_0's correlation: 0.0143862\n",
      "[36]\tvalid_0's correlation: 0.0142249\n",
      "[37]\tvalid_0's correlation: 0.0147092\n",
      "[38]\tvalid_0's correlation: 0.0149713\n",
      "[39]\tvalid_0's correlation: 0.014744\n",
      "[40]\tvalid_0's correlation: 0.0146594\n",
      "[41]\tvalid_0's correlation: 0.0145251\n",
      "[42]\tvalid_0's correlation: 0.0145043\n",
      "[43]\tvalid_0's correlation: 0.0141991\n",
      "[44]\tvalid_0's correlation: 0.0141958\n",
      "[45]\tvalid_0's correlation: 0.0145306\n",
      "[46]\tvalid_0's correlation: 0.0147129\n",
      "[47]\tvalid_0's correlation: 0.0145998\n",
      "[48]\tvalid_0's correlation: 0.0145709\n",
      "[49]\tvalid_0's correlation: 0.0146898\n",
      "[50]\tvalid_0's correlation: 0.0144068\n",
      "[51]\tvalid_0's correlation: 0.0143116\n",
      "[52]\tvalid_0's correlation: 0.0147015\n",
      "[53]\tvalid_0's correlation: 0.0147256\n",
      "[54]\tvalid_0's correlation: 0.0141634\n",
      "[55]\tvalid_0's correlation: 0.0140296\n",
      "[56]\tvalid_0's correlation: 0.0140232\n",
      "[57]\tvalid_0's correlation: 0.0141566\n",
      "[58]\tvalid_0's correlation: 0.0143609\n",
      "[59]\tvalid_0's correlation: 0.0147845\n",
      "[60]\tvalid_0's correlation: 0.0145349\n",
      "[61]\tvalid_0's correlation: 0.0148418\n",
      "[62]\tvalid_0's correlation: 0.0145936\n",
      "[63]\tvalid_0's correlation: 0.0145349\n",
      "[64]\tvalid_0's correlation: 0.0149814\n",
      "[65]\tvalid_0's correlation: 0.015343\n",
      "[66]\tvalid_0's correlation: 0.0159741\n",
      "[67]\tvalid_0's correlation: 0.0159396\n",
      "[68]\tvalid_0's correlation: 0.0158894\n",
      "[69]\tvalid_0's correlation: 0.0165177\n",
      "[70]\tvalid_0's correlation: 0.016407\n",
      "[71]\tvalid_0's correlation: 0.0166715\n",
      "[72]\tvalid_0's correlation: 0.0177485\n",
      "[73]\tvalid_0's correlation: 0.0180688\n",
      "[74]\tvalid_0's correlation: 0.0176842\n",
      "[75]\tvalid_0's correlation: 0.0172238\n",
      "[76]\tvalid_0's correlation: 0.0170279\n",
      "[77]\tvalid_0's correlation: 0.0170663\n",
      "[78]\tvalid_0's correlation: 0.0169162\n",
      "[79]\tvalid_0's correlation: 0.017119\n",
      "[80]\tvalid_0's correlation: 0.017284\n",
      "[81]\tvalid_0's correlation: 0.017318\n",
      "[82]\tvalid_0's correlation: 0.0176242\n",
      "[83]\tvalid_0's correlation: 0.0175631\n",
      "[84]\tvalid_0's correlation: 0.0176499\n",
      "[85]\tvalid_0's correlation: 0.017585\n",
      "[86]\tvalid_0's correlation: 0.0182042\n",
      "[87]\tvalid_0's correlation: 0.0179781\n",
      "[88]\tvalid_0's correlation: 0.0180284\n",
      "[89]\tvalid_0's correlation: 0.018389\n",
      "[90]\tvalid_0's correlation: 0.0181862\n",
      "[91]\tvalid_0's correlation: 0.0181519\n",
      "[92]\tvalid_0's correlation: 0.0184513\n",
      "[93]\tvalid_0's correlation: 0.0185892\n",
      "[94]\tvalid_0's correlation: 0.0182782\n",
      "[95]\tvalid_0's correlation: 0.0180979\n",
      "[96]\tvalid_0's correlation: 0.018156\n",
      "[97]\tvalid_0's correlation: 0.0178276\n",
      "[98]\tvalid_0's correlation: 0.017855\n",
      "[99]\tvalid_0's correlation: 0.0178707\n",
      "[100]\tvalid_0's correlation: 0.0179596\n",
      "[101]\tvalid_0's correlation: 0.0177053\n",
      "[102]\tvalid_0's correlation: 0.0171342\n",
      "[103]\tvalid_0's correlation: 0.0168865\n",
      "[104]\tvalid_0's correlation: 0.01721\n",
      "[105]\tvalid_0's correlation: 0.0172333\n",
      "[106]\tvalid_0's correlation: 0.0171337\n",
      "[107]\tvalid_0's correlation: 0.0175752\n",
      "[108]\tvalid_0's correlation: 0.0174017\n",
      "[109]\tvalid_0's correlation: 0.0175668\n",
      "[110]\tvalid_0's correlation: 0.0177146\n",
      "[111]\tvalid_0's correlation: 0.0175257\n",
      "[112]\tvalid_0's correlation: 0.0174712\n",
      "[113]\tvalid_0's correlation: 0.0173289\n",
      "[114]\tvalid_0's correlation: 0.0177711\n",
      "[115]\tvalid_0's correlation: 0.0177001\n",
      "[116]\tvalid_0's correlation: 0.0178309\n",
      "[117]\tvalid_0's correlation: 0.0176516\n",
      "[118]\tvalid_0's correlation: 0.0174482\n",
      "[119]\tvalid_0's correlation: 0.0169622\n",
      "[120]\tvalid_0's correlation: 0.0172295\n",
      "[121]\tvalid_0's correlation: 0.0174738\n",
      "[122]\tvalid_0's correlation: 0.0173982\n",
      "[123]\tvalid_0's correlation: 0.0170395\n",
      "[124]\tvalid_0's correlation: 0.0169116\n",
      "[125]\tvalid_0's correlation: 0.0168464\n",
      "[126]\tvalid_0's correlation: 0.0168296\n",
      "[127]\tvalid_0's correlation: 0.0173846\n",
      "[128]\tvalid_0's correlation: 0.0174466\n",
      "[129]\tvalid_0's correlation: 0.0174459\n",
      "[130]\tvalid_0's correlation: 0.0174954\n",
      "[131]\tvalid_0's correlation: 0.0174284\n",
      "[132]\tvalid_0's correlation: 0.0175362\n",
      "[133]\tvalid_0's correlation: 0.0175694\n",
      "[134]\tvalid_0's correlation: 0.0174415\n",
      "[135]\tvalid_0's correlation: 0.0177504\n",
      "[136]\tvalid_0's correlation: 0.0175039\n",
      "[137]\tvalid_0's correlation: 0.0173859\n",
      "[138]\tvalid_0's correlation: 0.0171335\n",
      "[139]\tvalid_0's correlation: 0.017201\n",
      "[140]\tvalid_0's correlation: 0.0171906\n",
      "[141]\tvalid_0's correlation: 0.0170137\n",
      "[142]\tvalid_0's correlation: 0.0171927\n",
      "[143]\tvalid_0's correlation: 0.0170825\n",
      "[144]\tvalid_0's correlation: 0.0171553\n",
      "[145]\tvalid_0's correlation: 0.0169223\n",
      "[146]\tvalid_0's correlation: 0.0168772\n",
      "[147]\tvalid_0's correlation: 0.0172662\n",
      "[148]\tvalid_0's correlation: 0.0170313\n",
      "[149]\tvalid_0's correlation: 0.0170222\n",
      "[150]\tvalid_0's correlation: 0.0173852\n",
      "[151]\tvalid_0's correlation: 0.0173073\n",
      "[152]\tvalid_0's correlation: 0.0173449\n",
      "[153]\tvalid_0's correlation: 0.0172335\n",
      "[154]\tvalid_0's correlation: 0.0172674\n",
      "[155]\tvalid_0's correlation: 0.0171824\n",
      "[156]\tvalid_0's correlation: 0.0171117\n",
      "[157]\tvalid_0's correlation: 0.0171821\n",
      "[158]\tvalid_0's correlation: 0.0173476\n",
      "[159]\tvalid_0's correlation: 0.0175097\n",
      "[160]\tvalid_0's correlation: 0.0175423\n",
      "[161]\tvalid_0's correlation: 0.017737\n",
      "[162]\tvalid_0's correlation: 0.0177637\n",
      "[163]\tvalid_0's correlation: 0.0176957\n",
      "[164]\tvalid_0's correlation: 0.0178389\n",
      "[165]\tvalid_0's correlation: 0.0176282\n",
      "[166]\tvalid_0's correlation: 0.017763\n",
      "[167]\tvalid_0's correlation: 0.0179918\n",
      "[168]\tvalid_0's correlation: 0.0180739\n",
      "[169]\tvalid_0's correlation: 0.0181065\n",
      "[170]\tvalid_0's correlation: 0.0176811\n",
      "[171]\tvalid_0's correlation: 0.0176719\n",
      "[172]\tvalid_0's correlation: 0.0178323\n",
      "[173]\tvalid_0's correlation: 0.0177422\n",
      "[174]\tvalid_0's correlation: 0.0179989\n",
      "[175]\tvalid_0's correlation: 0.0181298\n",
      "[176]\tvalid_0's correlation: 0.0182052\n",
      "[177]\tvalid_0's correlation: 0.0184109\n",
      "[178]\tvalid_0's correlation: 0.0184084\n",
      "[179]\tvalid_0's correlation: 0.0183684\n",
      "[180]\tvalid_0's correlation: 0.0181344\n",
      "[181]\tvalid_0's correlation: 0.018155\n",
      "[182]\tvalid_0's correlation: 0.0180153\n",
      "[183]\tvalid_0's correlation: 0.0178191\n",
      "[184]\tvalid_0's correlation: 0.018048\n",
      "[185]\tvalid_0's correlation: 0.018026\n",
      "[186]\tvalid_0's correlation: 0.0178818\n",
      "[187]\tvalid_0's correlation: 0.0179289\n",
      "[188]\tvalid_0's correlation: 0.0180391\n",
      "[189]\tvalid_0's correlation: 0.0177993\n",
      "[190]\tvalid_0's correlation: 0.0180988\n",
      "[191]\tvalid_0's correlation: 0.0180577\n",
      "[192]\tvalid_0's correlation: 0.0179645\n",
      "[193]\tvalid_0's correlation: 0.017959\n",
      "Early stopping, best iteration is:\n",
      "[93]\tvalid_0's correlation: 0.0185892\n"
     ]
    },
    {
     "data": {
      "text/plain": [
       "LGBMRegressor(boosting_type='gbdt', class_weight=None, colsample_bytree=0.025,\n",
       "              importance_type='split', learning_rate=0.375, max_depth=4,\n",
       "              metric='None', min_child_samples=20, min_child_weight=0.001,\n",
       "              min_split_gain=0.0, n_estimators=1911, n_jobs=-1, num_leaves=31,\n",
       "              objective='mse', random_state=None, reg_alpha=0.0, reg_lambda=0.0,\n",
       "              silent=True, subsample=1.0, subsample_for_bin=200000,\n",
       "              subsample_freq=0, verbose=5)"
      ]
     },
     "execution_count": 16,
     "metadata": {},
     "output_type": "execute_result"
    }
   ],
   "source": [
    "clf = lgb.LGBMRegressor(n_estimators=best['n_estimators'], max_depth=best['max_depth'], learning_rate=best['learning_rate'], colsample_bytree=best['colsample_bytree'], verbose=5, objective='mse', metric='None')\n",
    "# clf = lgb.LGBMRegressor(n_estimators=1602, max_depth=5, learning_rate=0.0528, subsample=0.75,colsample_bytree=0.05,reg_lambda=963, verbose=5, objective='mse', metric='None')\n",
    "clf.fit(training_data[features], training_data[TARGET_NAME], eval_set = [(validation_data[features], validation_data[TARGET_NAME])], eval_metric=correlation_score, early_stopping_rounds=100)"
   ]
  },
  {
   "cell_type": "code",
   "execution_count": null,
   "metadata": {},
   "outputs": [],
   "source": []
  },
  {
   "cell_type": "code",
   "execution_count": 483,
   "metadata": {},
   "outputs": [
    {
     "name": "stdout",
     "output_type": "stream",
     "text": [
      "Generating predictions\n",
      "On training the correlation has mean 0.10471374168637632 and std 0.025581501049215447\n",
      "On training the average per-era payout is 0.10471374168637632\n",
      "On validation the correlation has mean 0.019519065593066653 and std 0.024876579133663486\n",
      "On validation the average per-era payout is 0.019519065593066653\n",
      "feature_exposure training  0.06903961109970266\n",
      "feature_exposure validation  0.07116215398805907\n"
     ]
    }
   ],
   "source": [
    "# training_data = pd.read_csv(\"./numerai_dataset_\"+str(tournament_number)+\"/numerai_training_data.csv\")\n",
    "# tournament_data = pd.read_csv(\"./numerai_dataset_\"+str(tournament_number)+\"/numerai_tournament_data.csv\")\n",
    "\n",
    "print(\"Generating predictions\")\n",
    "training_data[PREDICTION_NAME] = clf.predict(training_data[features])\n",
    "# test_data_clean[PREDICTION_NAME] = model.predict(test_data_clean[feature_names])\n",
    "tournament_data[PREDICTION_NAME] = clf.predict(tournament_data[features])\n",
    "\n",
    "# #Neutralize Predictions on train and validation\n",
    "# training_data[PREDICTION_NAME] = training_data.groupby(\"era\").apply(lambda x: normalize_and_neutralize(x, [PREDICTION_NAME], features, 0.85))\n",
    "# scaler = MinMaxScaler()\n",
    "# training_data[PREDICTION_NAME] = scaler.fit_transform(training_data[[PREDICTION_NAME]]) # transform back to 0-1\n",
    "\n",
    "# tournament_data[PREDICTION_NAME] = tournament_data.groupby(\"era\").apply(lambda x: normalize_and_neutralize(x, [PREDICTION_NAME], features, 0.85))\n",
    "# scaler = MinMaxScaler()\n",
    "# tournament_data[PREDICTION_NAME] = scaler.fit_transform(tournament_data[[PREDICTION_NAME]]) # transform back to 0-1\n",
    "\n",
    "# Check the per-era correlations on the training set\n",
    "train_correlations = training_data.groupby(\"era\").apply(score)\n",
    "print(f\"On training the correlation has mean {train_correlations.mean()} and std {train_correlations.std()}\")\n",
    "print(f\"On training the average per-era payout is {payout(train_correlations).mean()}\")\n",
    "\n",
    "# Check the per-era correlations on the validation set\n",
    "validation_data = tournament_data[tournament_data.data_type == \"validation\"]\n",
    "validation_correlations = validation_data.groupby(\"era\").apply(score)\n",
    "print(f\"On validation the correlation has mean {validation_correlations.mean()} and std {validation_correlations.std()}\")\n",
    "print(f\"On validation the average per-era payout is {payout(validation_correlations).mean()}\")\n",
    "\n",
    "array_train = []\n",
    "array_val = []\n",
    "\n",
    "for feat in tournament_data.columns:\n",
    "    if feat in features:\n",
    "        corr = np.corrcoef(training_data[feat], training_data.prediction)[0,1]\n",
    "        array_train.append(corr)\n",
    "\n",
    "for feat in tournament_data.columns:\n",
    "    if feat in features:\n",
    "        corr = np.corrcoef(tournament_data[feat], tournament_data.prediction)[0,1]\n",
    "        array_val.append(corr)\n",
    "\n",
    "print('feature_exposure training ', np.std(array_train))\n",
    "print('feature_exposure validation ', np.std(array_val))\n",
    "# tournament_data = tournament_data.reset_index()\n",
    "# data_path = \"C:/Users/Rabe's/Desktop/NUMERAI/\"\n",
    "# tournament_data[['id', PREDICTION_NAME]].to_csv(data_path + TOURNAMENT_NAME + \"_submission_\"+str(tournament_number)+\"_ho_lgbm_w_scaling.csv\", index=False)"
   ]
  },
  {
   "cell_type": "markdown",
   "metadata": {},
   "source": [
    "## Not bad - ~2% mean correlation - on roughly monthly data\n",
    "- ~ 26% yearly return assuming future data is similar to validation data (probably not a good assumption)"
   ]
  },
  {
   "cell_type": "code",
   "execution_count": 40,
   "metadata": {},
   "outputs": [
    {
     "data": {
      "text/plain": [
       "1.261084596275639"
      ]
     },
     "execution_count": 40,
     "metadata": {},
     "output_type": "execute_result"
    }
   ],
   "source": [
    "#Validation Data\n",
    "(1+0.019519065593066653)**12"
   ]
  },
  {
   "cell_type": "code",
   "execution_count": 50,
   "metadata": {},
   "outputs": [
    {
     "data": {
      "text/plain": [
       "3.3036731635902927"
      ]
     },
     "execution_count": 50,
     "metadata": {},
     "output_type": "execute_result"
    }
   ],
   "source": [
    "# Training Data\n",
    "(1+0.10471374168637632)**12"
   ]
  },
  {
   "cell_type": "code",
   "execution_count": 485,
   "metadata": {},
   "outputs": [
    {
     "data": {
      "text/plain": [
       "<BarContainer object of 28 artists>"
      ]
     },
     "execution_count": 485,
     "metadata": {},
     "output_type": "execute_result"
    },
    {
     "data": {
      "image/png": "[encoded data removed]",
      "text/plain": [
       "<Figure size 1440x360 with 1 Axes>"
      ]
     },
     "metadata": {
      "needs_background": "light"
     },
     "output_type": "display_data"
    }
   ],
   "source": [
    "plt.figure(figsize=(20,5))\n",
    "# correlations = correlations.sort_values()\n",
    "plt.bar(train_correlations.index, train_correlations.values)\n",
    "plt.bar(validation_correlations.index, validation_correlations.values)"
   ]
  },
  {
   "cell_type": "code",
   "execution_count": null,
   "metadata": {},
   "outputs": [],
   "source": []
  },
  {
   "cell_type": "markdown",
   "metadata": {},
   "source": [
    "# Final Thoughts\n",
    "- Relatively simple model can produce good returns on validation data\n",
    "- The model hyperparameters were tuned using KFold CV \n",
    "- Probably some features that are not helping in the model (possibly remove them?)\n",
    "- Some era's seems to be challenging to get good correlation - maybe investigate why that is the case - can you mitigate downside?"
   ]
  },
  {
   "cell_type": "code",
   "execution_count": null,
   "metadata": {},
   "outputs": [],
   "source": []
  },
  {
   "cell_type": "code",
   "execution_count": null,
   "metadata": {},
   "outputs": [],
   "source": []
  },
  {
   "cell_type": "code",
   "execution_count": null,
   "metadata": {},
   "outputs": [],
   "source": []
  },
  {
   "cell_type": "code",
   "execution_count": null,
   "metadata": {},
   "outputs": [],
   "source": []
  },
  {
   "cell_type": "code",
   "execution_count": null,
   "metadata": {},
   "outputs": [],
   "source": []
  },
  {
   "cell_type": "code",
   "execution_count": null,
   "metadata": {},
   "outputs": [],
   "source": []
  }
 ],
 "metadata": {
  "kernelspec": {
   "display_name": "Python 3",
   "language": "python",
   "name": "python3"
  },
  "language_info": {
   "codemirror_mode": {
    "name": "ipython",
    "version": 3
   },
   "file_extension": ".py",
   "mimetype": "text/x-python",
   "name": "python",
   "nbconvert_exporter": "python",
   "pygments_lexer": "ipython3",
   "version": "3.7.6"
  }
 },
 "nbformat": 4,
 "nbformat_minor": 4
}
